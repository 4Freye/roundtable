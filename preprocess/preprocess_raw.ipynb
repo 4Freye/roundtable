{
 "cells": [
  {
   "cell_type": "code",
   "execution_count": 17,
   "metadata": {},
   "outputs": [],
   "source": [
    "with open('raw_text_transcript.txt') as f:\n",
    "    transcript = f.readlines()"
   ]
  },
  {
   "cell_type": "code",
   "execution_count": 32,
   "metadata": {},
   "outputs": [],
   "source": [
    "import pandas as pd\n",
    "pd.options.display.max_colwidth = 100\n",
    "\n",
    "# Separate timestamps and text\n",
    "timestamps = transcript[::2]  # Odd elements\n",
    "text = transcript[1::2]  # Even elements\n",
    "\n",
    "# Remove '\\n' from timestamps and text\n",
    "timestamps = [ts.strip() for ts in timestamps]\n",
    "text = [t.strip() for t in text]\n",
    "\n",
    "# Create a DataFrame\n",
    "df = pd.DataFrame({'Timestamp': timestamps, 'Text': text})\n",
    "\n",
    "# Split text at every dash '-' and melt it into multiple rows\n",
    "split_text = df['Text'].str.split('-').explode().str.strip().reset_index(drop=True)\n",
    "\n",
    "# Repeat timestamps for the new rows\n",
    "df = df.loc[df.index.repeat(df['Text'].str.count('-') + 1)].reset_index(drop=True)\n",
    "df['Text'] = split_text\n",
    "\n",
    "df.query(\"Text != ''\", inplace=True)"
   ]
  },
  {
   "cell_type": "code",
   "execution_count": 33,
   "metadata": {},
   "outputs": [],
   "source": [
    "df.to_csv('yt_transcript.csv', index=False)"
   ]
  },
  {
   "cell_type": "code",
   "execution_count": null,
   "metadata": {},
   "outputs": [],
   "source": []
  }
 ],
 "metadata": {
  "kernelspec": {
   "display_name": "base",
   "language": "python",
   "name": "python3"
  },
  "language_info": {
   "codemirror_mode": {
    "name": "ipython",
    "version": 3
   },
   "file_extension": ".py",
   "mimetype": "text/x-python",
   "name": "python",
   "nbconvert_exporter": "python",
   "pygments_lexer": "ipython3",
   "version": "3.9.16"
  },
  "orig_nbformat": 4
 },
 "nbformat": 4,
 "nbformat_minor": 2
}
