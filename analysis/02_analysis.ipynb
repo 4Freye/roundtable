{
 "cells": [
  {
   "cell_type": "code",
   "execution_count": 1,
   "metadata": {},
   "outputs": [],
   "source": [
    "import pandas as pd\n",
    "pd.set_option('display.max_colwidth', 255)\n",
    "df = pd.read_csv('../yt_transcript_classified.csv').query('Text != \"(upbeat music)\" & speaker != \"omit\" & speaker != \"Omit\" & speaker != \"?\"').dropna()\n",
    "\n",
    "df['Text'] = df['Text'].str.replace(r'\\[.*\\]|\\(.*\\)', '', regex=True)\n",
    "\n",
    "actor_dict = {\n",
    "    'Lacey':'Lacey Rose',\n",
    "    'Jim':'Jim Carrey',\n",
    "    'Don':'Don Cheadle',\n",
    "    'Henry':'Henry Winkler',\n",
    "    'HEnry':'Henry Winkler',\n",
    "    'Sacha':'Sacha Baron Cohen',\n",
    "    'SAcha':'Sacha Baron Cohen',\n",
    "    'Ted':'Ted Danson',\n",
    "    'Timothy':'Timothy Simons',\n",
    "    '?':'Unknown'\n",
    "}\n",
    "\n",
    "df['speaker'] = df.speaker.map(actor_dict)\n",
    "\n",
    "df = df[:-3]\n",
    "\n",
    "df.reset_index(inplace=True, drop=True)\n",
    "\n",
    "\n",
    "def list_to_secs(list_):\n",
    "    if (len(list_) == 3) & (list_[0] == 1):\n",
    "        return list_[0] * 60**2 + list_[1]* 60 + list_[2]\n",
    "    elif (len(list_) == 3) & (list_[0] > 23):\n",
    "        return list_[0] * 60 + list_[1]\n",
    "    else:\n",
    "        return list_[0] * 60 + list_[1]\n",
    "\n",
    "df['minutes'] = df.Timestamp.str.split(':').apply(lambda y: [int(x) for x in y]).apply(list_to_secs)/60"
   ]
  },
  {
   "cell_type": "code",
   "execution_count": 12,
   "metadata": {},
   "outputs": [],
   "source": [
    "why_act_passage = df[12:57]\n",
    "why_comedy_passage = df[996:1022]"
   ]
  },
  {
   "cell_type": "code",
   "execution_count": 13,
   "metadata": {},
   "outputs": [
    {
     "name": "stdout",
     "output_type": "stream",
     "text": [
      "This is a bit of a left turn, but I wanna ask, why do you guys do comedy? You have a thing in you where it literally pushes you to say the joke either at a party or on the sound stage. You literally have timing, you cannot teach it. You can't read about it in a book. It is in you or it isn't, and that's just the truth. It is more difficult than I think than doing just straight drama, and we get less respect because it looks so easy. And much less respect after today. Hush. No, but it's like being a surfer, it's like being a surfer. You're in the water and there's a wave that's coming and it's an opportunity to be funny. And if you have that instinct you're sitting there going, am I gonna ride this wave? It's a bit dangerous, but am I gonna ride it? I don't know that you make the decision. The image is exactly right, here comes the wave. And I don't think, well, for me anyway, I don't think sometimes I have the choice. I think that wave is coming and  I'm on that board come hell or high water, no pun intended. Well, maybe I'm kidding myself, but I always feel like, especially if you're saying something that's slightly dangerous, there's that cliffs of Acapulco moment. Right. Where the tide has come in, you either dive or you don't. Right. And if you don't dive it's gone forever. Right. But you know, most of the time you gotta go. You gotta go.\n"
     ]
    },
    {
     "data": {
      "text/html": [
       "<div>\n",
       "<style scoped>\n",
       "    .dataframe tbody tr th:only-of-type {\n",
       "        vertical-align: middle;\n",
       "    }\n",
       "\n",
       "    .dataframe tbody tr th {\n",
       "        vertical-align: top;\n",
       "    }\n",
       "\n",
       "    .dataframe thead th {\n",
       "        text-align: right;\n",
       "    }\n",
       "</style>\n",
       "<table border=\"1\" class=\"dataframe\">\n",
       "  <thead>\n",
       "    <tr style=\"text-align: right;\">\n",
       "      <th></th>\n",
       "      <th>Timestamp</th>\n",
       "      <th>Text</th>\n",
       "      <th>speaker</th>\n",
       "      <th>minutes</th>\n",
       "    </tr>\n",
       "  </thead>\n",
       "  <tbody>\n",
       "    <tr>\n",
       "      <th>996</th>\n",
       "      <td>1:01:14</td>\n",
       "      <td>This is a bit of a left turn, but I wanna ask, why do you guys do comedy?</td>\n",
       "      <td>Lacey Rose</td>\n",
       "      <td>61.233333</td>\n",
       "    </tr>\n",
       "    <tr>\n",
       "      <th>997</th>\n",
       "      <td>1:01:14</td>\n",
       "      <td>You have a thing in you</td>\n",
       "      <td>Henry Winkler</td>\n",
       "      <td>61.233333</td>\n",
       "    </tr>\n",
       "    <tr>\n",
       "      <th>998</th>\n",
       "      <td>1:01:24</td>\n",
       "      <td>where it literally pushes you to say the joke either at a party or on the sound stage.</td>\n",
       "      <td>Henry Winkler</td>\n",
       "      <td>61.400000</td>\n",
       "    </tr>\n",
       "    <tr>\n",
       "      <th>999</th>\n",
       "      <td>1:01:31</td>\n",
       "      <td>You literally have timing, you cannot teach it. You can't read about it in a book.</td>\n",
       "      <td>Henry Winkler</td>\n",
       "      <td>61.516667</td>\n",
       "    </tr>\n",
       "    <tr>\n",
       "      <th>1000</th>\n",
       "      <td>1:01:37</td>\n",
       "      <td>It is in you or it isn't, and that's just the truth. It is more difficult than I think than doing</td>\n",
       "      <td>Henry Winkler</td>\n",
       "      <td>61.616667</td>\n",
       "    </tr>\n",
       "    <tr>\n",
       "      <th>1001</th>\n",
       "      <td>1:01:45</td>\n",
       "      <td>just straight drama, and we get less respect</td>\n",
       "      <td>Henry Winkler</td>\n",
       "      <td>61.750000</td>\n",
       "    </tr>\n",
       "    <tr>\n",
       "      <th>1002</th>\n",
       "      <td>1:01:52</td>\n",
       "      <td>because it looks so easy.</td>\n",
       "      <td>Henry Winkler</td>\n",
       "      <td>61.866667</td>\n",
       "    </tr>\n",
       "    <tr>\n",
       "      <th>1003</th>\n",
       "      <td>1:01:52</td>\n",
       "      <td>And much less respect after today.</td>\n",
       "      <td>Sacha Baron Cohen</td>\n",
       "      <td>61.866667</td>\n",
       "    </tr>\n",
       "    <tr>\n",
       "      <th>1004</th>\n",
       "      <td>1:01:57</td>\n",
       "      <td>Hush.</td>\n",
       "      <td>Lacey Rose</td>\n",
       "      <td>61.950000</td>\n",
       "    </tr>\n",
       "    <tr>\n",
       "      <th>1005</th>\n",
       "      <td>1:01:57</td>\n",
       "      <td>No, but it's like being a surfer, it's like being a surfer. You're in the water and there's a wave that's coming</td>\n",
       "      <td>Jim Carrey</td>\n",
       "      <td>61.950000</td>\n",
       "    </tr>\n",
       "    <tr>\n",
       "      <th>1006</th>\n",
       "      <td>1:02:03</td>\n",
       "      <td>and it's an opportunity to be funny. And if you have that instinct you're sitting there going,</td>\n",
       "      <td>Jim Carrey</td>\n",
       "      <td>62.050000</td>\n",
       "    </tr>\n",
       "    <tr>\n",
       "      <th>1007</th>\n",
       "      <td>1:02:08</td>\n",
       "      <td>am I gonna ride this wave? It's a bit dangerous, but am I gonna ride it?</td>\n",
       "      <td>Jim Carrey</td>\n",
       "      <td>62.133333</td>\n",
       "    </tr>\n",
       "    <tr>\n",
       "      <th>1008</th>\n",
       "      <td>1:02:08</td>\n",
       "      <td>I don't know that you make the decision.</td>\n",
       "      <td>Henry Winkler</td>\n",
       "      <td>62.133333</td>\n",
       "    </tr>\n",
       "    <tr>\n",
       "      <th>1009</th>\n",
       "      <td>1:02:15</td>\n",
       "      <td>The image is exactly right, here comes the wave. And I don't think, well, for me anyway,</td>\n",
       "      <td>Henry Winkler</td>\n",
       "      <td>62.250000</td>\n",
       "    </tr>\n",
       "    <tr>\n",
       "      <th>1010</th>\n",
       "      <td>1:02:20</td>\n",
       "      <td>I don't think sometimes I have the choice. I think that wave is coming and</td>\n",
       "      <td>Henry Winkler</td>\n",
       "      <td>62.333333</td>\n",
       "    </tr>\n",
       "    <tr>\n",
       "      <th>1011</th>\n",
       "      <td>1:02:26</td>\n",
       "      <td>I'm on that board come hell or high water, no pun intended.</td>\n",
       "      <td>Henry Winkler</td>\n",
       "      <td>62.433333</td>\n",
       "    </tr>\n",
       "    <tr>\n",
       "      <th>1012</th>\n",
       "      <td>1:02:26</td>\n",
       "      <td>Well, maybe I'm kidding myself, but I always feel like, especially if you're saying something</td>\n",
       "      <td>Jim Carrey</td>\n",
       "      <td>62.433333</td>\n",
       "    </tr>\n",
       "    <tr>\n",
       "      <th>1013</th>\n",
       "      <td>1:02:31</td>\n",
       "      <td>that's slightly dangerous, there's that cliffs of Acapulco moment.</td>\n",
       "      <td>Jim Carrey</td>\n",
       "      <td>62.516667</td>\n",
       "    </tr>\n",
       "    <tr>\n",
       "      <th>1014</th>\n",
       "      <td>1:02:31</td>\n",
       "      <td>Right.</td>\n",
       "      <td>Henry Winkler</td>\n",
       "      <td>62.516667</td>\n",
       "    </tr>\n",
       "    <tr>\n",
       "      <th>1015</th>\n",
       "      <td>1:02:36</td>\n",
       "      <td>Where the tide has come in, you either dive or you don't.</td>\n",
       "      <td>Jim Carrey</td>\n",
       "      <td>62.600000</td>\n",
       "    </tr>\n",
       "    <tr>\n",
       "      <th>1016</th>\n",
       "      <td>1:02:36</td>\n",
       "      <td>Right.</td>\n",
       "      <td>Henry Winkler</td>\n",
       "      <td>62.600000</td>\n",
       "    </tr>\n",
       "    <tr>\n",
       "      <th>1017</th>\n",
       "      <td>1:02:36</td>\n",
       "      <td>And if you don't dive</td>\n",
       "      <td>Jim Carrey</td>\n",
       "      <td>62.600000</td>\n",
       "    </tr>\n",
       "    <tr>\n",
       "      <th>1018</th>\n",
       "      <td>1:02:42</td>\n",
       "      <td>it's gone forever.</td>\n",
       "      <td>Jim Carrey</td>\n",
       "      <td>62.700000</td>\n",
       "    </tr>\n",
       "    <tr>\n",
       "      <th>1019</th>\n",
       "      <td>1:02:42</td>\n",
       "      <td>Right.</td>\n",
       "      <td>Henry Winkler</td>\n",
       "      <td>62.700000</td>\n",
       "    </tr>\n",
       "    <tr>\n",
       "      <th>1020</th>\n",
       "      <td>1:02:42</td>\n",
       "      <td>But you know, most of the time you gotta go.</td>\n",
       "      <td>Jim Carrey</td>\n",
       "      <td>62.700000</td>\n",
       "    </tr>\n",
       "    <tr>\n",
       "      <th>1021</th>\n",
       "      <td>1:02:42</td>\n",
       "      <td>You gotta go.</td>\n",
       "      <td>Henry Winkler</td>\n",
       "      <td>62.700000</td>\n",
       "    </tr>\n",
       "  </tbody>\n",
       "</table>\n",
       "</div>"
      ],
      "text/plain": [
       "     Timestamp  \\\n",
       "996    1:01:14   \n",
       "997    1:01:14   \n",
       "998    1:01:24   \n",
       "999    1:01:31   \n",
       "1000   1:01:37   \n",
       "1001   1:01:45   \n",
       "1002   1:01:52   \n",
       "1003   1:01:52   \n",
       "1004   1:01:57   \n",
       "1005   1:01:57   \n",
       "1006   1:02:03   \n",
       "1007   1:02:08   \n",
       "1008   1:02:08   \n",
       "1009   1:02:15   \n",
       "1010   1:02:20   \n",
       "1011   1:02:26   \n",
       "1012   1:02:26   \n",
       "1013   1:02:31   \n",
       "1014   1:02:31   \n",
       "1015   1:02:36   \n",
       "1016   1:02:36   \n",
       "1017   1:02:36   \n",
       "1018   1:02:42   \n",
       "1019   1:02:42   \n",
       "1020   1:02:42   \n",
       "1021   1:02:42   \n",
       "\n",
       "                                                                                                                  Text  \\\n",
       "996                                          This is a bit of a left turn, but I wanna ask, why do you guys do comedy?   \n",
       "997                                                                                            You have a thing in you   \n",
       "998                             where it literally pushes you to say the joke either at a party or on the sound stage.   \n",
       "999                                 You literally have timing, you cannot teach it. You can't read about it in a book.   \n",
       "1000                 It is in you or it isn't, and that's just the truth. It is more difficult than I think than doing   \n",
       "1001                                                                      just straight drama, and we get less respect   \n",
       "1002                                                                                         because it looks so easy.   \n",
       "1003                                                                                And much less respect after today.   \n",
       "1004                                                                                                             Hush.   \n",
       "1005  No, but it's like being a surfer, it's like being a surfer. You're in the water and there's a wave that's coming   \n",
       "1006                    and it's an opportunity to be funny. And if you have that instinct you're sitting there going,   \n",
       "1007                                          am I gonna ride this wave? It's a bit dangerous, but am I gonna ride it?   \n",
       "1008                                                                          I don't know that you make the decision.   \n",
       "1009                          The image is exactly right, here comes the wave. And I don't think, well, for me anyway,   \n",
       "1010                                       I don't think sometimes I have the choice. I think that wave is coming and    \n",
       "1011                                                       I'm on that board come hell or high water, no pun intended.   \n",
       "1012                     Well, maybe I'm kidding myself, but I always feel like, especially if you're saying something   \n",
       "1013                                                that's slightly dangerous, there's that cliffs of Acapulco moment.   \n",
       "1014                                                                                                            Right.   \n",
       "1015                                                         Where the tide has come in, you either dive or you don't.   \n",
       "1016                                                                                                            Right.   \n",
       "1017                                                                                             And if you don't dive   \n",
       "1018                                                                                                it's gone forever.   \n",
       "1019                                                                                                            Right.   \n",
       "1020                                                                      But you know, most of the time you gotta go.   \n",
       "1021                                                                                                     You gotta go.   \n",
       "\n",
       "                speaker    minutes  \n",
       "996          Lacey Rose  61.233333  \n",
       "997       Henry Winkler  61.233333  \n",
       "998       Henry Winkler  61.400000  \n",
       "999       Henry Winkler  61.516667  \n",
       "1000      Henry Winkler  61.616667  \n",
       "1001      Henry Winkler  61.750000  \n",
       "1002      Henry Winkler  61.866667  \n",
       "1003  Sacha Baron Cohen  61.866667  \n",
       "1004         Lacey Rose  61.950000  \n",
       "1005         Jim Carrey  61.950000  \n",
       "1006         Jim Carrey  62.050000  \n",
       "1007         Jim Carrey  62.133333  \n",
       "1008      Henry Winkler  62.133333  \n",
       "1009      Henry Winkler  62.250000  \n",
       "1010      Henry Winkler  62.333333  \n",
       "1011      Henry Winkler  62.433333  \n",
       "1012         Jim Carrey  62.433333  \n",
       "1013         Jim Carrey  62.516667  \n",
       "1014      Henry Winkler  62.516667  \n",
       "1015         Jim Carrey  62.600000  \n",
       "1016      Henry Winkler  62.600000  \n",
       "1017         Jim Carrey  62.600000  \n",
       "1018         Jim Carrey  62.700000  \n",
       "1019      Henry Winkler  62.700000  \n",
       "1020         Jim Carrey  62.700000  \n",
       "1021      Henry Winkler  62.700000  "
      ]
     },
     "execution_count": 13,
     "metadata": {},
     "output_type": "execute_result"
    }
   ],
   "source": [
    "print(' '.join(why_comedy_passage.Text))\n",
    "why_comedy_passage"
   ]
  },
  {
   "cell_type": "code",
   "execution_count": 293,
   "metadata": {},
   "outputs": [
    {
     "name": "stdout",
     "output_type": "stream",
     "text": [
      "All right, complete this sentence. I act because. I love it so much I don't know what else to do. Starting with Timothy.  Cause there is no ceiling to the amount of attention I need positive or negative, and this is a business that provides that. Because I can do nothing else. Not really. You write. Oh yeah, oh yeah. Apart from writing. You direct, you direct. Okay, it's very rarely. Apart from writing and directing.  You guys? I act because if you did what we do anywhere other than a place where they pay you to do it they would arrest you.  Fair. I act because I'm broken in a lot of pieces and acting gives me a chance to reconfigure those pieces into 1,000 different things that are positive for people to watch and eventually I will be ground down into a fine powder and then  Snorted, is that how you wanna go out? Snorted, right. For those of you who are watching, there is a guide you will get in the mail for Jim's answers. Remarkably truthful. You're all broken, let's face it. Yeah. Yeah, yeah. Why do you look at me? I don't know. The most. I was looking through you actually. What about you, Ted? I'm with everyone else. A little bit broken and wouldn't know what else to do, literally, I'd be a butler maybe, but other than that I have no other real talents. I would be a child psychologist. I'd be a child. And you two would have That's right, I think it's begun already, actually.  Beforehand everybody's going, how much should we talk about, what should we talk about? Henry's sitting there going. A noble fucking profession. I love actors, I love writers, directors. I love going to work through a studio. I do think we're curing cancer and it's an amazing thing to make people laugh so it's a great profession. We illuminate life, I mean, that's the reason that we do what we do is that we hold a mirror up to the rest of society.\n"
     ]
    },
    {
     "data": {
      "text/html": [
       "<div>\n",
       "<style scoped>\n",
       "    .dataframe tbody tr th:only-of-type {\n",
       "        vertical-align: middle;\n",
       "    }\n",
       "\n",
       "    .dataframe tbody tr th {\n",
       "        vertical-align: top;\n",
       "    }\n",
       "\n",
       "    .dataframe thead th {\n",
       "        text-align: right;\n",
       "    }\n",
       "</style>\n",
       "<table border=\"1\" class=\"dataframe\">\n",
       "  <thead>\n",
       "    <tr style=\"text-align: right;\">\n",
       "      <th></th>\n",
       "      <th>Timestamp</th>\n",
       "      <th>Text</th>\n",
       "      <th>speaker</th>\n",
       "      <th>minutes</th>\n",
       "    </tr>\n",
       "  </thead>\n",
       "  <tbody>\n",
       "    <tr>\n",
       "      <th>12</th>\n",
       "      <td>0:35</td>\n",
       "      <td>All right, complete this sentence. I act because.</td>\n",
       "      <td>Lacey Rose</td>\n",
       "      <td>0.583333</td>\n",
       "    </tr>\n",
       "    <tr>\n",
       "      <th>13</th>\n",
       "      <td>0:35</td>\n",
       "      <td>I love it so much</td>\n",
       "      <td>Henry Winkler</td>\n",
       "      <td>0.583333</td>\n",
       "    </tr>\n",
       "    <tr>\n",
       "      <th>14</th>\n",
       "      <td>0:41</td>\n",
       "      <td>I don't know what else to do.</td>\n",
       "      <td>Henry Winkler</td>\n",
       "      <td>0.683333</td>\n",
       "    </tr>\n",
       "    <tr>\n",
       "      <th>15</th>\n",
       "      <td>0:41</td>\n",
       "      <td>Starting with Timothy.</td>\n",
       "      <td>Sacha Baron Cohen</td>\n",
       "      <td>0.683333</td>\n",
       "    </tr>\n",
       "    <tr>\n",
       "      <th>16</th>\n",
       "      <td>0:48</td>\n",
       "      <td>Cause there is no ceiling to the amount of attention I need positive or negative, and this is a business</td>\n",
       "      <td>Timothy Simons</td>\n",
       "      <td>0.800000</td>\n",
       "    </tr>\n",
       "    <tr>\n",
       "      <th>17</th>\n",
       "      <td>0:54</td>\n",
       "      <td>that provides that.</td>\n",
       "      <td>Timothy Simons</td>\n",
       "      <td>0.900000</td>\n",
       "    </tr>\n",
       "    <tr>\n",
       "      <th>18</th>\n",
       "      <td>0:54</td>\n",
       "      <td>Because I can do nothing else.</td>\n",
       "      <td>Sacha Baron Cohen</td>\n",
       "      <td>0.900000</td>\n",
       "    </tr>\n",
       "    <tr>\n",
       "      <th>19</th>\n",
       "      <td>0:54</td>\n",
       "      <td>Not really.</td>\n",
       "      <td>Sacha Baron Cohen</td>\n",
       "      <td>0.900000</td>\n",
       "    </tr>\n",
       "    <tr>\n",
       "      <th>20</th>\n",
       "      <td>1:00</td>\n",
       "      <td>You write.</td>\n",
       "      <td>Don Cheedle</td>\n",
       "      <td>1.000000</td>\n",
       "    </tr>\n",
       "    <tr>\n",
       "      <th>21</th>\n",
       "      <td>1:00</td>\n",
       "      <td>Oh yeah, oh yeah.</td>\n",
       "      <td>Sacha Baron Cohen</td>\n",
       "      <td>1.000000</td>\n",
       "    </tr>\n",
       "    <tr>\n",
       "      <th>22</th>\n",
       "      <td>1:00</td>\n",
       "      <td>Apart from writing.</td>\n",
       "      <td>Sacha Baron Cohen</td>\n",
       "      <td>1.000000</td>\n",
       "    </tr>\n",
       "    <tr>\n",
       "      <th>23</th>\n",
       "      <td>1:00</td>\n",
       "      <td>You direct, you direct.</td>\n",
       "      <td>Don Cheedle</td>\n",
       "      <td>1.000000</td>\n",
       "    </tr>\n",
       "    <tr>\n",
       "      <th>24</th>\n",
       "      <td>1:00</td>\n",
       "      <td>Okay, it's very rarely.</td>\n",
       "      <td>Sacha Baron Cohen</td>\n",
       "      <td>1.000000</td>\n",
       "    </tr>\n",
       "    <tr>\n",
       "      <th>25</th>\n",
       "      <td>1:07</td>\n",
       "      <td>Apart from writing and directing.</td>\n",
       "      <td>Sacha Baron Cohen</td>\n",
       "      <td>1.116667</td>\n",
       "    </tr>\n",
       "    <tr>\n",
       "      <th>26</th>\n",
       "      <td>1:07</td>\n",
       "      <td>You guys?</td>\n",
       "      <td>Lacey Rose</td>\n",
       "      <td>1.116667</td>\n",
       "    </tr>\n",
       "    <tr>\n",
       "      <th>27</th>\n",
       "      <td>1:07</td>\n",
       "      <td>I act because if you did what we do</td>\n",
       "      <td>Don Cheedle</td>\n",
       "      <td>1.116667</td>\n",
       "    </tr>\n",
       "    <tr>\n",
       "      <th>28</th>\n",
       "      <td>1:13</td>\n",
       "      <td>anywhere other than a place where they pay you to do it they would arrest you.</td>\n",
       "      <td>Don Cheedle</td>\n",
       "      <td>1.216667</td>\n",
       "    </tr>\n",
       "    <tr>\n",
       "      <th>29</th>\n",
       "      <td>1:13</td>\n",
       "      <td>Fair.</td>\n",
       "      <td>Lacey Rose</td>\n",
       "      <td>1.216667</td>\n",
       "    </tr>\n",
       "    <tr>\n",
       "      <th>30</th>\n",
       "      <td>1:19</td>\n",
       "      <td>I act because I'm broken in a lot of pieces</td>\n",
       "      <td>Jim Carrey</td>\n",
       "      <td>1.316667</td>\n",
       "    </tr>\n",
       "    <tr>\n",
       "      <th>31</th>\n",
       "      <td>1:25</td>\n",
       "      <td>and acting gives me a chance to reconfigure those pieces into 1,000 different things that are positive</td>\n",
       "      <td>Jim Carrey</td>\n",
       "      <td>1.416667</td>\n",
       "    </tr>\n",
       "    <tr>\n",
       "      <th>32</th>\n",
       "      <td>1:32</td>\n",
       "      <td>for people to watch and eventually I will be ground down into a fine powder and then</td>\n",
       "      <td>Jim Carrey</td>\n",
       "      <td>1.533333</td>\n",
       "    </tr>\n",
       "    <tr>\n",
       "      <th>33</th>\n",
       "      <td>1:38</td>\n",
       "      <td>Snorted, is that how you wanna go out?</td>\n",
       "      <td>Don Cheedle</td>\n",
       "      <td>1.633333</td>\n",
       "    </tr>\n",
       "    <tr>\n",
       "      <th>34</th>\n",
       "      <td>1:38</td>\n",
       "      <td>Snorted, right.</td>\n",
       "      <td>Jim Carrey</td>\n",
       "      <td>1.633333</td>\n",
       "    </tr>\n",
       "    <tr>\n",
       "      <th>35</th>\n",
       "      <td>1:38</td>\n",
       "      <td>For those of you who are watching, there is a guide you will get in the mail</td>\n",
       "      <td>Henry Winkler</td>\n",
       "      <td>1.633333</td>\n",
       "    </tr>\n",
       "    <tr>\n",
       "      <th>36</th>\n",
       "      <td>1:44</td>\n",
       "      <td>for Jim's answers.</td>\n",
       "      <td>Henry Winkler</td>\n",
       "      <td>1.733333</td>\n",
       "    </tr>\n",
       "    <tr>\n",
       "      <th>37</th>\n",
       "      <td>1:44</td>\n",
       "      <td>Remarkably truthful.</td>\n",
       "      <td>Ted Danson</td>\n",
       "      <td>1.733333</td>\n",
       "    </tr>\n",
       "    <tr>\n",
       "      <th>38</th>\n",
       "      <td>1:51</td>\n",
       "      <td>You're all broken, let's face it.</td>\n",
       "      <td>Jim Carrey</td>\n",
       "      <td>1.850000</td>\n",
       "    </tr>\n",
       "    <tr>\n",
       "      <th>39</th>\n",
       "      <td>1:51</td>\n",
       "      <td>Yeah.</td>\n",
       "      <td>Timothy Simons</td>\n",
       "      <td>1.850000</td>\n",
       "    </tr>\n",
       "    <tr>\n",
       "      <th>40</th>\n",
       "      <td>1:51</td>\n",
       "      <td>Yeah, yeah. Why do you look at me?</td>\n",
       "      <td>Sacha Baron Cohen</td>\n",
       "      <td>1.850000</td>\n",
       "    </tr>\n",
       "    <tr>\n",
       "      <th>41</th>\n",
       "      <td>1:51</td>\n",
       "      <td>I don't know.</td>\n",
       "      <td>Jim Carrey</td>\n",
       "      <td>1.850000</td>\n",
       "    </tr>\n",
       "    <tr>\n",
       "      <th>42</th>\n",
       "      <td>1:51</td>\n",
       "      <td>The most.</td>\n",
       "      <td>Sacha Baron Cohen</td>\n",
       "      <td>1.850000</td>\n",
       "    </tr>\n",
       "    <tr>\n",
       "      <th>43</th>\n",
       "      <td>1:56</td>\n",
       "      <td>I was looking through you actually.</td>\n",
       "      <td>Jim Carrey</td>\n",
       "      <td>1.933333</td>\n",
       "    </tr>\n",
       "    <tr>\n",
       "      <th>44</th>\n",
       "      <td>1:56</td>\n",
       "      <td>What about you, Ted?</td>\n",
       "      <td>Lacey Rose</td>\n",
       "      <td>1.933333</td>\n",
       "    </tr>\n",
       "    <tr>\n",
       "      <th>45</th>\n",
       "      <td>1:56</td>\n",
       "      <td>I'm with everyone else. A little bit broken and wouldn't know what else to do,</td>\n",
       "      <td>Ted Danson</td>\n",
       "      <td>1.933333</td>\n",
       "    </tr>\n",
       "    <tr>\n",
       "      <th>46</th>\n",
       "      <td>2:04</td>\n",
       "      <td>literally, I'd be a butler maybe, but other than that I have no other real talents.</td>\n",
       "      <td>Ted Danson</td>\n",
       "      <td>2.066667</td>\n",
       "    </tr>\n",
       "    <tr>\n",
       "      <th>47</th>\n",
       "      <td>2:09</td>\n",
       "      <td>I would be a child psychologist.</td>\n",
       "      <td>Henry Winkler</td>\n",
       "      <td>2.150000</td>\n",
       "    </tr>\n",
       "    <tr>\n",
       "      <th>48</th>\n",
       "      <td>2:09</td>\n",
       "      <td>I'd be a child.</td>\n",
       "      <td>Jim Carrey</td>\n",
       "      <td>2.150000</td>\n",
       "    </tr>\n",
       "    <tr>\n",
       "      <th>49</th>\n",
       "      <td>2:09</td>\n",
       "      <td>And you two would have</td>\n",
       "      <td>Don Cheedle</td>\n",
       "      <td>2.150000</td>\n",
       "    </tr>\n",
       "    <tr>\n",
       "      <th>50</th>\n",
       "      <td>2:14</td>\n",
       "      <td>That's right, I think it's begun already, actually.  Beforehand everybody's going,</td>\n",
       "      <td>Jim Carrey</td>\n",
       "      <td>2.233333</td>\n",
       "    </tr>\n",
       "    <tr>\n",
       "      <th>51</th>\n",
       "      <td>2:19</td>\n",
       "      <td>how much should we talk about, what should we talk about? Henry's sitting there going.</td>\n",
       "      <td>Jim Carrey</td>\n",
       "      <td>2.316667</td>\n",
       "    </tr>\n",
       "    <tr>\n",
       "      <th>52</th>\n",
       "      <td>2:19</td>\n",
       "      <td>A noble fucking profession.</td>\n",
       "      <td>Ted Danson</td>\n",
       "      <td>2.316667</td>\n",
       "    </tr>\n",
       "    <tr>\n",
       "      <th>53</th>\n",
       "      <td>2:24</td>\n",
       "      <td>I love actors, I love writers, directors. I love going to work through a studio. I do think we're curing cancer</td>\n",
       "      <td>Ted Danson</td>\n",
       "      <td>2.400000</td>\n",
       "    </tr>\n",
       "    <tr>\n",
       "      <th>54</th>\n",
       "      <td>2:31</td>\n",
       "      <td>and it's an amazing thing to make people laugh so it's a great profession.</td>\n",
       "      <td>Ted Danson</td>\n",
       "      <td>2.516667</td>\n",
       "    </tr>\n",
       "    <tr>\n",
       "      <th>55</th>\n",
       "      <td>2:31</td>\n",
       "      <td>We illuminate life,</td>\n",
       "      <td>Henry Winkler</td>\n",
       "      <td>2.516667</td>\n",
       "    </tr>\n",
       "    <tr>\n",
       "      <th>56</th>\n",
       "      <td>2:38</td>\n",
       "      <td>I mean, that's the reason that we do what we do is that we hold a mirror up to the rest of society.</td>\n",
       "      <td>Henry Winkler</td>\n",
       "      <td>2.633333</td>\n",
       "    </tr>\n",
       "  </tbody>\n",
       "</table>\n",
       "</div>"
      ],
      "text/plain": [
       "   Timestamp  \\\n",
       "12      0:35   \n",
       "13      0:35   \n",
       "14      0:41   \n",
       "15      0:41   \n",
       "16      0:48   \n",
       "17      0:54   \n",
       "18      0:54   \n",
       "19      0:54   \n",
       "20      1:00   \n",
       "21      1:00   \n",
       "22      1:00   \n",
       "23      1:00   \n",
       "24      1:00   \n",
       "25      1:07   \n",
       "26      1:07   \n",
       "27      1:07   \n",
       "28      1:13   \n",
       "29      1:13   \n",
       "30      1:19   \n",
       "31      1:25   \n",
       "32      1:32   \n",
       "33      1:38   \n",
       "34      1:38   \n",
       "35      1:38   \n",
       "36      1:44   \n",
       "37      1:44   \n",
       "38      1:51   \n",
       "39      1:51   \n",
       "40      1:51   \n",
       "41      1:51   \n",
       "42      1:51   \n",
       "43      1:56   \n",
       "44      1:56   \n",
       "45      1:56   \n",
       "46      2:04   \n",
       "47      2:09   \n",
       "48      2:09   \n",
       "49      2:09   \n",
       "50      2:14   \n",
       "51      2:19   \n",
       "52      2:19   \n",
       "53      2:24   \n",
       "54      2:31   \n",
       "55      2:31   \n",
       "56      2:38   \n",
       "\n",
       "                                                                                                               Text  \\\n",
       "12                                                                All right, complete this sentence. I act because.   \n",
       "13                                                                                                I love it so much   \n",
       "14                                                                                    I don't know what else to do.   \n",
       "15                                                                                          Starting with Timothy.    \n",
       "16         Cause there is no ceiling to the amount of attention I need positive or negative, and this is a business   \n",
       "17                                                                                              that provides that.   \n",
       "18                                                                                   Because I can do nothing else.   \n",
       "19                                                                                                      Not really.   \n",
       "20                                                                                                       You write.   \n",
       "21                                                                                                Oh yeah, oh yeah.   \n",
       "22                                                                                              Apart from writing.   \n",
       "23                                                                                          You direct, you direct.   \n",
       "24                                                                                          Okay, it's very rarely.   \n",
       "25                                                                               Apart from writing and directing.    \n",
       "26                                                                                                        You guys?   \n",
       "27                                                                              I act because if you did what we do   \n",
       "28                                   anywhere other than a place where they pay you to do it they would arrest you.   \n",
       "29                                                                                                            Fair.   \n",
       "30                                                                      I act because I'm broken in a lot of pieces   \n",
       "31           and acting gives me a chance to reconfigure those pieces into 1,000 different things that are positive   \n",
       "32                             for people to watch and eventually I will be ground down into a fine powder and then   \n",
       "33                                                                           Snorted, is that how you wanna go out?   \n",
       "34                                                                                                  Snorted, right.   \n",
       "35                                     For those of you who are watching, there is a guide you will get in the mail   \n",
       "36                                                                                               for Jim's answers.   \n",
       "37                                                                                             Remarkably truthful.   \n",
       "38                                                                                You're all broken, let's face it.   \n",
       "39                                                                                                            Yeah.   \n",
       "40                                                                               Yeah, yeah. Why do you look at me?   \n",
       "41                                                                                                    I don't know.   \n",
       "42                                                                                                        The most.   \n",
       "43                                                                              I was looking through you actually.   \n",
       "44                                                                                             What about you, Ted?   \n",
       "45                                   I'm with everyone else. A little bit broken and wouldn't know what else to do,   \n",
       "46                              literally, I'd be a butler maybe, but other than that I have no other real talents.   \n",
       "47                                                                                 I would be a child psychologist.   \n",
       "48                                                                                                  I'd be a child.   \n",
       "49                                                                                           And you two would have   \n",
       "50                               That's right, I think it's begun already, actually.  Beforehand everybody's going,   \n",
       "51                           how much should we talk about, what should we talk about? Henry's sitting there going.   \n",
       "52                                                                                      A noble fucking profession.   \n",
       "53  I love actors, I love writers, directors. I love going to work through a studio. I do think we're curing cancer   \n",
       "54                                       and it's an amazing thing to make people laugh so it's a great profession.   \n",
       "55                                                                                              We illuminate life,   \n",
       "56              I mean, that's the reason that we do what we do is that we hold a mirror up to the rest of society.   \n",
       "\n",
       "              speaker   minutes  \n",
       "12         Lacey Rose  0.583333  \n",
       "13      Henry Winkler  0.583333  \n",
       "14      Henry Winkler  0.683333  \n",
       "15  Sacha Baron Cohen  0.683333  \n",
       "16     Timothy Simons  0.800000  \n",
       "17     Timothy Simons  0.900000  \n",
       "18  Sacha Baron Cohen  0.900000  \n",
       "19  Sacha Baron Cohen  0.900000  \n",
       "20        Don Cheedle  1.000000  \n",
       "21  Sacha Baron Cohen  1.000000  \n",
       "22  Sacha Baron Cohen  1.000000  \n",
       "23        Don Cheedle  1.000000  \n",
       "24  Sacha Baron Cohen  1.000000  \n",
       "25  Sacha Baron Cohen  1.116667  \n",
       "26         Lacey Rose  1.116667  \n",
       "27        Don Cheedle  1.116667  \n",
       "28        Don Cheedle  1.216667  \n",
       "29         Lacey Rose  1.216667  \n",
       "30         Jim Carrey  1.316667  \n",
       "31         Jim Carrey  1.416667  \n",
       "32         Jim Carrey  1.533333  \n",
       "33        Don Cheedle  1.633333  \n",
       "34         Jim Carrey  1.633333  \n",
       "35      Henry Winkler  1.633333  \n",
       "36      Henry Winkler  1.733333  \n",
       "37         Ted Danson  1.733333  \n",
       "38         Jim Carrey  1.850000  \n",
       "39     Timothy Simons  1.850000  \n",
       "40  Sacha Baron Cohen  1.850000  \n",
       "41         Jim Carrey  1.850000  \n",
       "42  Sacha Baron Cohen  1.850000  \n",
       "43         Jim Carrey  1.933333  \n",
       "44         Lacey Rose  1.933333  \n",
       "45         Ted Danson  1.933333  \n",
       "46         Ted Danson  2.066667  \n",
       "47      Henry Winkler  2.150000  \n",
       "48         Jim Carrey  2.150000  \n",
       "49        Don Cheedle  2.150000  \n",
       "50         Jim Carrey  2.233333  \n",
       "51         Jim Carrey  2.316667  \n",
       "52         Ted Danson  2.316667  \n",
       "53         Ted Danson  2.400000  \n",
       "54         Ted Danson  2.516667  \n",
       "55      Henry Winkler  2.516667  \n",
       "56      Henry Winkler  2.633333  "
      ]
     },
     "execution_count": 293,
     "metadata": {},
     "output_type": "execute_result"
    }
   ],
   "source": [
    "print(' '.join(why_act_passage.Text))\n",
    "why_act_passage"
   ]
  },
  {
   "cell_type": "code",
   "execution_count": 14,
   "metadata": {},
   "outputs": [
    {
     "name": "stdout",
     "output_type": "stream",
     "text": [
      "Complete this sentence. I knew I made it in Hollywood when. I wasn't dead yet.  Interesting, when you weren't dead yet? Kinda, I mean, really people ask that question. I really feel like they say, well your career's, I'm like, well, let me look back when I'm done and go, okay, I did that, I felt good about that because Careers are something you look back at. Yeah, I mean, I feel like all of us, there's a bit of impostor syndrome I think that comes up for many of us and you're like, at some point they're just gonna go, yeah, we've had that flavor, thank you, next guy. I feel like everybody that I've met, like outwardly you look at them and you think, oh, well that person's fine, like they're perfect. They're sailing, like they're never gonna have to hustle and then you meet 'em and they still hustle. You bet. And they're still after it and it doesn't matter, and so that feeling of like, I've made it in Hollywood, I don't know that that actually exists. Exactly. Okay, but you do have your sort of first dose of success and feeling like, oh, I can make career of this. But it's fleeting. I did get to meet Steve Buscemi at a party one time, and I will fucking tell you that was amazing. That was your moment, okay. That was some great shit right there. I love it. I knew that people were watching Happy Days when I went from my first personal appearance. I got off the plane at 11:30 and there were 3,000 people in '50s clothes and I thought it was a party. And the stewardess said, \"No, I think that's for you.\" And I went, \"Oh, people are watching. Yeah, wow. Okay, so the rest of us have not made it, basically. Yeah, apparently not. We just discovered.\n"
     ]
    },
    {
     "data": {
      "text/html": [
       "<div>\n",
       "<style scoped>\n",
       "    .dataframe tbody tr th:only-of-type {\n",
       "        vertical-align: middle;\n",
       "    }\n",
       "\n",
       "    .dataframe tbody tr th {\n",
       "        vertical-align: top;\n",
       "    }\n",
       "\n",
       "    .dataframe thead th {\n",
       "        text-align: right;\n",
       "    }\n",
       "</style>\n",
       "<table border=\"1\" class=\"dataframe\">\n",
       "  <thead>\n",
       "    <tr style=\"text-align: right;\">\n",
       "      <th></th>\n",
       "      <th>Timestamp</th>\n",
       "      <th>Text</th>\n",
       "      <th>speaker</th>\n",
       "      <th>minutes</th>\n",
       "    </tr>\n",
       "  </thead>\n",
       "  <tbody>\n",
       "    <tr>\n",
       "      <th>1086</th>\n",
       "      <td>1:06:46</td>\n",
       "      <td>Complete this sentence. I knew I made it in Hollywood when.</td>\n",
       "      <td>Lacey Rose</td>\n",
       "      <td>66.766667</td>\n",
       "    </tr>\n",
       "    <tr>\n",
       "      <th>1087</th>\n",
       "      <td>1:06:53</td>\n",
       "      <td>I wasn't dead yet.</td>\n",
       "      <td>Don Cheadle</td>\n",
       "      <td>66.883333</td>\n",
       "    </tr>\n",
       "    <tr>\n",
       "      <th>1088</th>\n",
       "      <td>1:06:53</td>\n",
       "      <td>Interesting, when you weren't dead yet?</td>\n",
       "      <td>Ted Danson</td>\n",
       "      <td>66.883333</td>\n",
       "    </tr>\n",
       "    <tr>\n",
       "      <th>1089</th>\n",
       "      <td>1:07:00</td>\n",
       "      <td>Kinda, I mean, really people ask that question. I really feel like they say, well your career's, I'm like, well, let me look back when I'm done and go,</td>\n",
       "      <td>Don Cheadle</td>\n",
       "      <td>67.000000</td>\n",
       "    </tr>\n",
       "    <tr>\n",
       "      <th>1090</th>\n",
       "      <td>1:07:08</td>\n",
       "      <td>okay, I did that, I felt good about that because</td>\n",
       "      <td>Don Cheadle</td>\n",
       "      <td>67.133333</td>\n",
       "    </tr>\n",
       "    <tr>\n",
       "      <th>1091</th>\n",
       "      <td>1:07:08</td>\n",
       "      <td>Careers are something you look back at.</td>\n",
       "      <td>Ted Danson</td>\n",
       "      <td>67.133333</td>\n",
       "    </tr>\n",
       "    <tr>\n",
       "      <th>1092</th>\n",
       "      <td>1:07:08</td>\n",
       "      <td>Yeah, I mean, I feel like all of us,</td>\n",
       "      <td>Don Cheadle</td>\n",
       "      <td>67.133333</td>\n",
       "    </tr>\n",
       "    <tr>\n",
       "      <th>1093</th>\n",
       "      <td>1:07:17</td>\n",
       "      <td>there's a bit of impostor syndrome I think that comes up for many of us and you're like, at some point they're just gonna go, yeah,</td>\n",
       "      <td>Don Cheadle</td>\n",
       "      <td>67.283333</td>\n",
       "    </tr>\n",
       "    <tr>\n",
       "      <th>1094</th>\n",
       "      <td>1:07:23</td>\n",
       "      <td>we've had that flavor, thank you, next guy.</td>\n",
       "      <td>Don Cheadle</td>\n",
       "      <td>67.383333</td>\n",
       "    </tr>\n",
       "    <tr>\n",
       "      <th>1095</th>\n",
       "      <td>1:07:23</td>\n",
       "      <td>I feel like everybody that I've met, like outwardly you look at them and you think,</td>\n",
       "      <td>Timothy Simons</td>\n",
       "      <td>67.383333</td>\n",
       "    </tr>\n",
       "    <tr>\n",
       "      <th>1096</th>\n",
       "      <td>1:07:30</td>\n",
       "      <td>oh, well that person's fine, like they're perfect. They're sailing, like they're never gonna have to hustle</td>\n",
       "      <td>Timothy Simons</td>\n",
       "      <td>67.500000</td>\n",
       "    </tr>\n",
       "    <tr>\n",
       "      <th>1097</th>\n",
       "      <td>1:07:36</td>\n",
       "      <td>and then you meet 'em and they still hustle.</td>\n",
       "      <td>Timothy Simons</td>\n",
       "      <td>67.600000</td>\n",
       "    </tr>\n",
       "    <tr>\n",
       "      <th>1098</th>\n",
       "      <td>1:07:36</td>\n",
       "      <td>You bet.</td>\n",
       "      <td>Henry Winkler</td>\n",
       "      <td>67.600000</td>\n",
       "    </tr>\n",
       "    <tr>\n",
       "      <th>1099</th>\n",
       "      <td>1:07:36</td>\n",
       "      <td>And they're still after it and it doesn't matter, and so that feeling of like,</td>\n",
       "      <td>Timothy Simons</td>\n",
       "      <td>67.600000</td>\n",
       "    </tr>\n",
       "    <tr>\n",
       "      <th>1100</th>\n",
       "      <td>1:07:41</td>\n",
       "      <td>I've made it in Hollywood, I don't know that that actually exists.</td>\n",
       "      <td>Timothy Simons</td>\n",
       "      <td>67.683333</td>\n",
       "    </tr>\n",
       "    <tr>\n",
       "      <th>1101</th>\n",
       "      <td>1:07:41</td>\n",
       "      <td>Exactly.</td>\n",
       "      <td>Don Cheadle</td>\n",
       "      <td>67.683333</td>\n",
       "    </tr>\n",
       "    <tr>\n",
       "      <th>1102</th>\n",
       "      <td>1:07:41</td>\n",
       "      <td>Okay, but you do have your sort of first dose of success and feeling like, oh, I can make career of this.</td>\n",
       "      <td>Lacey Rose</td>\n",
       "      <td>67.683333</td>\n",
       "    </tr>\n",
       "    <tr>\n",
       "      <th>1103</th>\n",
       "      <td>1:07:49</td>\n",
       "      <td>But it's fleeting.</td>\n",
       "      <td>Don Cheadle</td>\n",
       "      <td>67.816667</td>\n",
       "    </tr>\n",
       "    <tr>\n",
       "      <th>1104</th>\n",
       "      <td>1:07:49</td>\n",
       "      <td>I did get to meet Steve Buscemi at a party one time, and I will fucking tell you that was amazing.</td>\n",
       "      <td>Timothy Simons</td>\n",
       "      <td>67.816667</td>\n",
       "    </tr>\n",
       "    <tr>\n",
       "      <th>1105</th>\n",
       "      <td>1:07:54</td>\n",
       "      <td>That was your moment, okay.</td>\n",
       "      <td>Lacey Rose</td>\n",
       "      <td>67.900000</td>\n",
       "    </tr>\n",
       "    <tr>\n",
       "      <th>1106</th>\n",
       "      <td>1:07:54</td>\n",
       "      <td>That was some great shit right there.</td>\n",
       "      <td>Timothy Simons</td>\n",
       "      <td>67.900000</td>\n",
       "    </tr>\n",
       "    <tr>\n",
       "      <th>1107</th>\n",
       "      <td>1:07:54</td>\n",
       "      <td>I love it.</td>\n",
       "      <td>Lacey Rose</td>\n",
       "      <td>67.900000</td>\n",
       "    </tr>\n",
       "    <tr>\n",
       "      <th>1108</th>\n",
       "      <td>1:07:54</td>\n",
       "      <td>I knew that people were watching Happy Days</td>\n",
       "      <td>Henry Winkler</td>\n",
       "      <td>67.900000</td>\n",
       "    </tr>\n",
       "    <tr>\n",
       "      <th>1109</th>\n",
       "      <td>1:08:01</td>\n",
       "      <td>when I went from my first personal appearance. I got off the plane at 11:30 and there were 3,000 people</td>\n",
       "      <td>Henry Winkler</td>\n",
       "      <td>68.016667</td>\n",
       "    </tr>\n",
       "    <tr>\n",
       "      <th>1110</th>\n",
       "      <td>1:08:08</td>\n",
       "      <td>in '50s clothes and I thought it was a party. And the stewardess said, \"No, I think that's for you.\"</td>\n",
       "      <td>Henry Winkler</td>\n",
       "      <td>68.133333</td>\n",
       "    </tr>\n",
       "    <tr>\n",
       "      <th>1111</th>\n",
       "      <td>1:08:14</td>\n",
       "      <td>And I went, \"Oh, people are watching.</td>\n",
       "      <td>Henry Winkler</td>\n",
       "      <td>68.233333</td>\n",
       "    </tr>\n",
       "    <tr>\n",
       "      <th>1112</th>\n",
       "      <td>1:08:14</td>\n",
       "      <td>Yeah, wow.</td>\n",
       "      <td>Lacey Rose</td>\n",
       "      <td>68.233333</td>\n",
       "    </tr>\n",
       "    <tr>\n",
       "      <th>1113</th>\n",
       "      <td>1:08:14</td>\n",
       "      <td>Okay, so the rest of us have not made it, basically.</td>\n",
       "      <td>Ted Danson</td>\n",
       "      <td>68.233333</td>\n",
       "    </tr>\n",
       "    <tr>\n",
       "      <th>1114</th>\n",
       "      <td>1:08:14</td>\n",
       "      <td>Yeah, apparently not.</td>\n",
       "      <td>Lacey Rose</td>\n",
       "      <td>68.233333</td>\n",
       "    </tr>\n",
       "    <tr>\n",
       "      <th>1115</th>\n",
       "      <td>1:08:21</td>\n",
       "      <td>We just discovered.</td>\n",
       "      <td>Ted Danson</td>\n",
       "      <td>68.350000</td>\n",
       "    </tr>\n",
       "  </tbody>\n",
       "</table>\n",
       "</div>"
      ],
      "text/plain": [
       "     Timestamp  \\\n",
       "1086   1:06:46   \n",
       "1087   1:06:53   \n",
       "1088   1:06:53   \n",
       "1089   1:07:00   \n",
       "1090   1:07:08   \n",
       "1091   1:07:08   \n",
       "1092   1:07:08   \n",
       "1093   1:07:17   \n",
       "1094   1:07:23   \n",
       "1095   1:07:23   \n",
       "1096   1:07:30   \n",
       "1097   1:07:36   \n",
       "1098   1:07:36   \n",
       "1099   1:07:36   \n",
       "1100   1:07:41   \n",
       "1101   1:07:41   \n",
       "1102   1:07:41   \n",
       "1103   1:07:49   \n",
       "1104   1:07:49   \n",
       "1105   1:07:54   \n",
       "1106   1:07:54   \n",
       "1107   1:07:54   \n",
       "1108   1:07:54   \n",
       "1109   1:08:01   \n",
       "1110   1:08:08   \n",
       "1111   1:08:14   \n",
       "1112   1:08:14   \n",
       "1113   1:08:14   \n",
       "1114   1:08:14   \n",
       "1115   1:08:21   \n",
       "\n",
       "                                                                                                                                                         Text  \\\n",
       "1086                                                                                              Complete this sentence. I knew I made it in Hollywood when.   \n",
       "1087                                                                                                                                      I wasn't dead yet.    \n",
       "1088                                                                                                                  Interesting, when you weren't dead yet?   \n",
       "1089  Kinda, I mean, really people ask that question. I really feel like they say, well your career's, I'm like, well, let me look back when I'm done and go,   \n",
       "1090                                                                                                         okay, I did that, I felt good about that because   \n",
       "1091                                                                                                                  Careers are something you look back at.   \n",
       "1092                                                                                                                     Yeah, I mean, I feel like all of us,   \n",
       "1093                      there's a bit of impostor syndrome I think that comes up for many of us and you're like, at some point they're just gonna go, yeah,   \n",
       "1094                                                                                                              we've had that flavor, thank you, next guy.   \n",
       "1095                                                                      I feel like everybody that I've met, like outwardly you look at them and you think,   \n",
       "1096                                              oh, well that person's fine, like they're perfect. They're sailing, like they're never gonna have to hustle   \n",
       "1097                                                                                                             and then you meet 'em and they still hustle.   \n",
       "1098                                                                                                                                                 You bet.   \n",
       "1099                                                                           And they're still after it and it doesn't matter, and so that feeling of like,   \n",
       "1100                                                                                       I've made it in Hollywood, I don't know that that actually exists.   \n",
       "1101                                                                                                                                                 Exactly.   \n",
       "1102                                                Okay, but you do have your sort of first dose of success and feeling like, oh, I can make career of this.   \n",
       "1103                                                                                                                                       But it's fleeting.   \n",
       "1104                                                       I did get to meet Steve Buscemi at a party one time, and I will fucking tell you that was amazing.   \n",
       "1105                                                                                                                              That was your moment, okay.   \n",
       "1106                                                                                                                    That was some great shit right there.   \n",
       "1107                                                                                                                                               I love it.   \n",
       "1108                                                                                                              I knew that people were watching Happy Days   \n",
       "1109                                                  when I went from my first personal appearance. I got off the plane at 11:30 and there were 3,000 people   \n",
       "1110                                                     in '50s clothes and I thought it was a party. And the stewardess said, \"No, I think that's for you.\"   \n",
       "1111                                                                                                                    And I went, \"Oh, people are watching.   \n",
       "1112                                                                                                                                               Yeah, wow.   \n",
       "1113                                                                                                     Okay, so the rest of us have not made it, basically.   \n",
       "1114                                                                                                                                    Yeah, apparently not.   \n",
       "1115                                                                                                                                      We just discovered.   \n",
       "\n",
       "             speaker    minutes  \n",
       "1086      Lacey Rose  66.766667  \n",
       "1087     Don Cheadle  66.883333  \n",
       "1088      Ted Danson  66.883333  \n",
       "1089     Don Cheadle  67.000000  \n",
       "1090     Don Cheadle  67.133333  \n",
       "1091      Ted Danson  67.133333  \n",
       "1092     Don Cheadle  67.133333  \n",
       "1093     Don Cheadle  67.283333  \n",
       "1094     Don Cheadle  67.383333  \n",
       "1095  Timothy Simons  67.383333  \n",
       "1096  Timothy Simons  67.500000  \n",
       "1097  Timothy Simons  67.600000  \n",
       "1098   Henry Winkler  67.600000  \n",
       "1099  Timothy Simons  67.600000  \n",
       "1100  Timothy Simons  67.683333  \n",
       "1101     Don Cheadle  67.683333  \n",
       "1102      Lacey Rose  67.683333  \n",
       "1103     Don Cheadle  67.816667  \n",
       "1104  Timothy Simons  67.816667  \n",
       "1105      Lacey Rose  67.900000  \n",
       "1106  Timothy Simons  67.900000  \n",
       "1107      Lacey Rose  67.900000  \n",
       "1108   Henry Winkler  67.900000  \n",
       "1109   Henry Winkler  68.016667  \n",
       "1110   Henry Winkler  68.133333  \n",
       "1111   Henry Winkler  68.233333  \n",
       "1112      Lacey Rose  68.233333  \n",
       "1113      Ted Danson  68.233333  \n",
       "1114      Lacey Rose  68.233333  \n",
       "1115      Ted Danson  68.350000  "
      ]
     },
     "execution_count": 14,
     "metadata": {},
     "output_type": "execute_result"
    }
   ],
   "source": [
    "making_it_passage = df[1086:1116]\n",
    "print(' '.join(making_it_passage.Text))\n",
    "making_it_passage\n",
    "\n",
    "# meeting_heros_passage = df[1116:1174]\n",
    "# print(' '.join(meeting_heros_passage.Text))\n",
    "# meeting_heros_passage"
   ]
  },
  {
   "cell_type": "markdown",
   "metadata": {},
   "source": [
    "Embedding exercise:"
   ]
  },
  {
   "cell_type": "code",
   "execution_count": null,
   "metadata": {},
   "outputs": [],
   "source": [
    "from sentence_transformers import SentenceTransformer\n",
    "model = SentenceTransformer('all-MiniLM-L6-v2')\n",
    "passages = pd.Series([why_act_passage, why_comedy_passage, making_it_passage]).apply(lambda x: ' '.join(x.Text))\n",
    "summaries = pd.Series([\"The passage discusses why the individuals in the conversation act, with reasons ranging from a deep passion for it, the need for attention, personal brokenness, and the belief that acting is a profession that brings joy and reflection to society.\", \n",
    "             \"The passage discusses why comedians do comedy, emphasizing that it's an innate instinct and a bit like riding a wave, where the decision to be funny is often spontaneous and instinctual.\", \n",
    "             \"The passage explores the concept of 'making it' in Hollywood and suggests that the idea of reaching a point where one feels they've truly 'made it' is elusive, with many in the industry constantly hustling and experiencing imposter syndrome despite their success.\"])\n",
    "summaries_embeddings = model.encode(summaries.to_numpy())\n",
    "passages_embeddings = model.encode(passages.to_numpy())"
   ]
  },
  {
   "cell_type": "code",
   "execution_count": 384,
   "metadata": {},
   "outputs": [],
   "source": [
    "import numpy as np\n",
    "\n",
    "def cosine_similarity(vector1, vector2):\n",
    "    # Calculate the dot product of the two vectors\n",
    "    dot_product = np.dot(vector1, vector2)\n",
    "    \n",
    "    # Calculate the L2 norm (Euclidean norm) of each vector\n",
    "    norm_vector1 = np.linalg.norm(vector1)\n",
    "    norm_vector2 = np.linalg.norm(vector2)\n",
    "    \n",
    "    # Calculate the cosine similarity\n",
    "    similarity = dot_product / (norm_vector1 * norm_vector2)\n",
    "    \n",
    "    return similarity"
   ]
  },
  {
   "cell_type": "code",
   "execution_count": 453,
   "metadata": {},
   "outputs": [
    {
     "data": {
      "text/plain": [
       "Text(0.5, 1.0, 'Cosine similarity between selected passages and their Chat GPT Summaries')"
      ]
     },
     "execution_count": 453,
     "metadata": {},
     "output_type": "execute_result"
    },
    {
     "data": {
      "image/png": "[encoded data removed]",
      "text/plain": [
       "<Figure size 640x480 with 2 Axes>"
      ]
     },
     "metadata": {},
     "output_type": "display_data"
    }
   ],
   "source": [
    "# Initialize an empty matrix of the appropriate shape\n",
    "matrix = np.empty((len(summaries_embeddings), len(passages_embeddings)))\n",
    "\n",
    "# Calculate cosine similarities and populate the matrix\n",
    "for i, s_embed in enumerate(summaries_embeddings):\n",
    "    for j, p_embed in enumerate(passages_embeddings):\n",
    "        matrix[i, j] = cosine_similarity(s_embed, p_embed)\n",
    "\n",
    "tick_labels = [\"Why act\", \"Why comedy\", \"Making it in Hollywood\"]\n",
    "\n",
    "import seaborn as sns\n",
    "ax = sns.heatmap(matrix, yticklabels=tick_labels, xticklabels=tick_labels)\n",
    "ax.set_xlabel(\"Passage\")\n",
    "ax.set_ylabel(\"Chat GPT Summary\")\n",
    "ax.set_title(\"Cosine similarity between selected passages and their Chat GPT Summaries\")"
   ]
  },
  {
   "cell_type": "code",
   "execution_count": 456,
   "metadata": {},
   "outputs": [],
   "source": [
    "df.to_csv('updated_transcript.csv', index=False)"
   ]
  },
  {
   "cell_type": "markdown",
   "metadata": {},
   "source": [
    "## Next section lol\n"
   ]
  },
  {
   "cell_type": "code",
   "execution_count": 4,
   "metadata": {},
   "outputs": [],
   "source": [
    "import datetime\n",
    "\n",
    "def resample_df(df:pd.DataFrame, minute_col:str, grouping:str, sample_freq = '15S', thresh = 0):\n",
    "    df= df.copy()\n",
    "    # create date_time column from minute column\n",
    "    df['date_time'] = datetime.datetime(2016, 1,1) + df[minute_col].apply(lambda x: datetime.timedelta(minutes=x))\n",
    "    # set date_time as index and group by user_id and resample by hour, pivot the table\n",
    "    df = df[['date_time',grouping]].set_index('date_time').groupby(grouping).resample(sample_freq).count().rename({grouping:'count'}, axis=1).reset_index()\n",
    "    df['minute'] = df['date_time'].dt.hour*60 + df['date_time'].dt.minute + df['date_time'].dt.second/60\n",
    "    df = pd.pivot_table(df, values='count', index=[grouping], columns=['minute']).fillna(0).apply(lambda x: x>thresh)\n",
    "    return df\n",
    "\n",
    "def paragraphify(df):\n",
    "    df = df.copy()\n",
    "    # Create a new column to mark consecutive speakers\n",
    "    df['speaker_change'] = df['speaker'] != df['speaker'].shift(1)\n",
    "\n",
    "    # Create a new column to represent the group number\n",
    "    df['group'] = df['speaker_change'].cumsum()\n",
    "\n",
    "    # Group by the 'group' column and aggregate the 'Text' column\n",
    "    result_df = df.groupby('group').agg({'speaker': 'first', 'Text': ' '.join, 'minutes': 'first'}).reset_index(drop=True)\n",
    "\n",
    "    return result_df\n",
    "\n",
    "# from sentence_transformers import SentenceTransformer\n",
    "\n",
    "# def encode(df, hugging_face_model = 'all-MiniLM-L6-v2', text_col = 'Text'):\n",
    "#     model = SentenceTransformer(hugging_face_model)\n",
    "#     embeddings = model.encode(df['Text'].to_numpy())\n",
    "#     return embeddings\n",
    "\n",
    "# import numpy as np\n",
    "\n",
    "# from scipy.cluster.vq import kmeans, vq\n",
    "\n",
    "# def assign_cluster(embeddings, k):\n",
    "#     centroids, distortion = kmeans(embeddings, k)\n",
    "#     clusters, _ = vq(embeddings, centroids)\n",
    "#     return clusters"
   ]
  },
  {
   "cell_type": "code",
   "execution_count": 7,
   "metadata": {},
   "outputs": [],
   "source": [
    "# speaker dataframe\n",
    "speaker_resampled = resample_df(df, 'minutes','speaker', sample_freq='15S')"
   ]
  },
  {
   "cell_type": "code",
   "execution_count": 5,
   "metadata": {},
   "outputs": [],
   "source": [
    "# text dataframe\n",
    "# embedded_text = encode(df)\n",
    "paragraph_df = paragraphify(df)\n",
    "# paragraph_embeddings = encode(paragraph_df)"
   ]
  },
  {
   "cell_type": "code",
   "execution_count": 24,
   "metadata": {},
   "outputs": [],
   "source": [
    "from bertopic.representation import MaximalMarginalRelevance\n",
    "from bertopic import BERTopic\n",
    "# a `bertopic.representation` model\n",
    "mmr = MaximalMarginalRelevance(diversity=0.3)\n",
    "\n",
    "seed_topic_list = [[\"fear\", \"grief\", \"broken\", \"pain\", \"hurt\", \"loss\"],\n",
    "                   [\"act\", \"play\", \"love\", \"passion\"],\n",
    "                   [\"comedy\", \"laugh\", \"humor\"],\n",
    "                   [\"skill\",\"craft\",\"versatility\", \"art\"]]       \n",
    "\n",
    "# Use the chained models\n",
    "topic_model = BERTopic(\n",
    "  representation_model=mmr,  \n",
    "  seed_topic_list = seed_topic_list)"
   ]
  },
  {
   "cell_type": "code",
   "execution_count": 25,
   "metadata": {},
   "outputs": [],
   "source": [
    "topics, probs = topic_model.fit_transform(paragraph_df.Text.to_list())"
   ]
  },
  {
   "cell_type": "code",
   "execution_count": null,
   "metadata": {},
   "outputs": [],
   "source": [
    "# Method 1 - safetensors\n",
    "embedding_model = \"sentence-transformers/all-MiniLM-L6-v2\"\n",
    "topic_model.save(\"topic_model\", serialization=\"safetensors\", save_ctfidf=True, save_embedding_model=embedding_model)\n"
   ]
  },
  {
   "cell_type": "code",
   "execution_count": 26,
   "metadata": {},
   "outputs": [
    {
     "data": {
      "text/html": [
       "<div>\n",
       "<style scoped>\n",
       "    .dataframe tbody tr th:only-of-type {\n",
       "        vertical-align: middle;\n",
       "    }\n",
       "\n",
       "    .dataframe tbody tr th {\n",
       "        vertical-align: top;\n",
       "    }\n",
       "\n",
       "    .dataframe thead th {\n",
       "        text-align: right;\n",
       "    }\n",
       "</style>\n",
       "<table border=\"1\" class=\"dataframe\">\n",
       "  <thead>\n",
       "    <tr style=\"text-align: right;\">\n",
       "      <th></th>\n",
       "      <th>Topic</th>\n",
       "      <th>Count</th>\n",
       "      <th>Name</th>\n",
       "      <th>Representation</th>\n",
       "      <th>Representative_Docs</th>\n",
       "    </tr>\n",
       "  </thead>\n",
       "  <tbody>\n",
       "    <tr>\n",
       "      <th>0</th>\n",
       "      <td>-1</td>\n",
       "      <td>324</td>\n",
       "      <td>-1_like_know_its_what</td>\n",
       "      <td>[like, know, its, what, youre, do, they, on, about, at]</td>\n",
       "      <td>[Yeah, it very often happens to me I've found in my work, and you're going, what am I pulling toward me? You know, it's not just that things are out there for you to go get, a lot of times these things are kind of coalescing around you and you're like...</td>\n",
       "    </tr>\n",
       "    <tr>\n",
       "      <th>1</th>\n",
       "      <td>0</td>\n",
       "      <td>46</td>\n",
       "      <td>0_was_of_show_said</td>\n",
       "      <td>[was, of, show, said, at, years, like, know, he, entire]</td>\n",
       "      <td>[I committed hubris. I thought not that I was great, but that it was such a big show and it was so international. It was everywhere. That I was going to go from mountaintop to mountaintop. I was going to beat the system. I looked down and there were g...</td>\n",
       "    </tr>\n",
       "    <tr>\n",
       "      <th>2</th>\n",
       "      <td>1</td>\n",
       "      <td>36</td>\n",
       "      <td>1_yeah_ballsy_aw_huh</td>\n",
       "      <td>[yeah, ballsy, aw, huh, man, hes, guys, over, look, you]</td>\n",
       "      <td>[Yeah, yeah., Yeah., Yeah.]</td>\n",
       "    </tr>\n",
       "    <tr>\n",
       "      <th>3</th>\n",
       "      <td>2</td>\n",
       "      <td>35</td>\n",
       "      <td>2_route_out_go_escape</td>\n",
       "      <td>[route, out, go, escape, board, theres, moon, dive, front, gotta]</td>\n",
       "      <td>[And we find out they're at the escape route., To a cabinet minister. And then we're working out how to get out of the hotel. And you know, we've got a back route. We always have escape routes, but then we find out, They're at the escape route so we e...</td>\n",
       "    </tr>\n",
       "    <tr>\n",
       "      <th>4</th>\n",
       "      <td>3</td>\n",
       "      <td>30</td>\n",
       "      <td>3_people_do_be_mean</td>\n",
       "      <td>[people, do, be, mean, think, im, when, like, thing, feel]</td>\n",
       "      <td>[The thing that I think that I've sort of struggled with over the last couple years is like where I grew up. I grew up in a really small town. One of the things I didn't like about that is the fact that everybody kinda knows your business, and so when...</td>\n",
       "    </tr>\n",
       "    <tr>\n",
       "      <th>5</th>\n",
       "      <td>4</td>\n",
       "      <td>28</td>\n",
       "      <td>4_secret_service_was_get</td>\n",
       "      <td>[secret, service, was, get, it, undercover, interview, room, oj, in]</td>\n",
       "      <td>[Yes, and he goes, \"All right, there may be a way \"out of it, but you might get arrested.\" So you're going into a scene knowing that you're trying to work out the percentage of something bad happening. And then we booked another room which was in case...</td>\n",
       "    </tr>\n",
       "    <tr>\n",
       "      <th>6</th>\n",
       "      <td>5</td>\n",
       "      <td>28</td>\n",
       "      <td>5_wow_mm_sure_balls</td>\n",
       "      <td>[wow, mm, sure, balls, truly, meant, worst, theyre, didnt, mean]</td>\n",
       "      <td>[Wow, wow., Wow., Oh, wow.]</td>\n",
       "    </tr>\n",
       "    <tr>\n",
       "      <th>7</th>\n",
       "      <td>6</td>\n",
       "      <td>25</td>\n",
       "      <td>6_comedy_its_funny_joke</td>\n",
       "      <td>[comedy, its, funny, joke, people, because, they, can, about, laugh]</td>\n",
       "      <td>[And Colbert and they're attacking this subject in a comedic way, but I do believe that when it comes down to it and the wolf is at the door there ain't nothing funny about that. And if you give them a joke about it, that's fine. It heals in that mome...</td>\n",
       "    </tr>\n",
       "    <tr>\n",
       "      <th>8</th>\n",
       "      <td>7</td>\n",
       "      <td>24</td>\n",
       "      <td>7_do_play_love_that</td>\n",
       "      <td>[do, play, love, that, pieces, characters, lot, youre, different, broken]</td>\n",
       "      <td>[I love him. I've only taught four or five times, and I have thoroughly enjoyed it. It is written so well that I don't know what to do.  And again, everything is, we are blessed with wonderful writers because if it's not on the page it ain't on the st...</td>\n",
       "    </tr>\n",
       "    <tr>\n",
       "      <th>9</th>\n",
       "      <td>8</td>\n",
       "      <td>20</td>\n",
       "      <td>8_right_hush_snorted_correct</td>\n",
       "      <td>[right, hush, snorted, correct, not, those, two, are, yeah, and]</td>\n",
       "      <td>[Right., Right., Right.]</td>\n",
       "    </tr>\n",
       "    <tr>\n",
       "      <th>10</th>\n",
       "      <td>9</td>\n",
       "      <td>16</td>\n",
       "      <td>9_okay_asshole_im_youre</td>\n",
       "      <td>[okay, asshole, im, youre, points, wise, sorry, whatever, work, say]</td>\n",
       "      <td>[Okay, so, I'm an asshole, is that what you're? , So I'm an asshole, is that what you're trying to say?]</td>\n",
       "    </tr>\n",
       "    <tr>\n",
       "      <th>11</th>\n",
       "      <td>10</td>\n",
       "      <td>15</td>\n",
       "      <td>10_absolutely_bet_blank_halfway</td>\n",
       "      <td>[absolutely, bet, blank, halfway, truthful, man, through, some, all, im]</td>\n",
       "      <td>[Absolutely., Absolutely., Absolutely.]</td>\n",
       "    </tr>\n",
       "    <tr>\n",
       "      <th>12</th>\n",
       "      <td>11</td>\n",
       "      <td>14</td>\n",
       "      <td>11_totally_saying_no_thats</td>\n",
       "      <td>[totally, saying, no, thats, understands, fair, nerve, validation, youre, right]</td>\n",
       "      <td>[Exactly., Exactly., Yeah, exactly.]</td>\n",
       "    </tr>\n",
       "    <tr>\n",
       "      <th>13</th>\n",
       "      <td>12</td>\n",
       "      <td>12</td>\n",
       "      <td>12_robbed_won_nominated_was</td>\n",
       "      <td>[robbed, won, nominated, was, win, kids, before, feel, didnt, pressure]</td>\n",
       "      <td>[Yeah, and the mantle of you were robbed was taken from me when I won.  And you were robbed was kind of a nice..., I loved winning it. It sits on my dining room table, which is directly opposite the front door. So when the man delivers my Lipitor he g...</td>\n",
       "    </tr>\n",
       "    <tr>\n",
       "      <th>14</th>\n",
       "      <td>13</td>\n",
       "      <td>11</td>\n",
       "      <td>13_scares_worried_scared_nervous</td>\n",
       "      <td>[scares, worried, scared, nervous, 57, cliffs, scaring, terrified, move, dangerous]</td>\n",
       "      <td>[Well, maybe I'm kidding myself, but I always feel like, especially if you're saying something that's slightly dangerous, there's that cliffs of Acapulco moment., I was worried about everything, about losing it, about not getting it, about not being g...</td>\n",
       "    </tr>\n",
       "    <tr>\n",
       "      <th>15</th>\n",
       "      <td>14</td>\n",
       "      <td>11</td>\n",
       "      <td>14_love_great_using_huge</td>\n",
       "      <td>[love, great, using, huge, thank, very, think, im, you, and]</td>\n",
       "      <td>[I love it., I love that., I love that.]</td>\n",
       "    </tr>\n",
       "    <tr>\n",
       "      <th>16</th>\n",
       "      <td>15</td>\n",
       "      <td>10</td>\n",
       "      <td>15_90_finesse_myth_fleeting</td>\n",
       "      <td>[90, finesse, myth, fleeting, alchemize, blast, takes, risk, it, yeah]</td>\n",
       "      <td>[But it takes a while., And 90% myth as well, so that's a tough thing to deal, But taking that risk is great.]</td>\n",
       "    </tr>\n",
       "  </tbody>\n",
       "</table>\n",
       "</div>"
      ],
      "text/plain": [
       "    Topic  Count                              Name  \\\n",
       "0      -1    324             -1_like_know_its_what   \n",
       "1       0     46                0_was_of_show_said   \n",
       "2       1     36              1_yeah_ballsy_aw_huh   \n",
       "3       2     35             2_route_out_go_escape   \n",
       "4       3     30               3_people_do_be_mean   \n",
       "5       4     28          4_secret_service_was_get   \n",
       "6       5     28               5_wow_mm_sure_balls   \n",
       "7       6     25           6_comedy_its_funny_joke   \n",
       "8       7     24               7_do_play_love_that   \n",
       "9       8     20      8_right_hush_snorted_correct   \n",
       "10      9     16           9_okay_asshole_im_youre   \n",
       "11     10     15   10_absolutely_bet_blank_halfway   \n",
       "12     11     14        11_totally_saying_no_thats   \n",
       "13     12     12       12_robbed_won_nominated_was   \n",
       "14     13     11  13_scares_worried_scared_nervous   \n",
       "15     14     11          14_love_great_using_huge   \n",
       "16     15     10       15_90_finesse_myth_fleeting   \n",
       "\n",
       "                                                                         Representation  \\\n",
       "0                               [like, know, its, what, youre, do, they, on, about, at]   \n",
       "1                              [was, of, show, said, at, years, like, know, he, entire]   \n",
       "2                              [yeah, ballsy, aw, huh, man, hes, guys, over, look, you]   \n",
       "3                     [route, out, go, escape, board, theres, moon, dive, front, gotta]   \n",
       "4                            [people, do, be, mean, think, im, when, like, thing, feel]   \n",
       "5                  [secret, service, was, get, it, undercover, interview, room, oj, in]   \n",
       "6                      [wow, mm, sure, balls, truly, meant, worst, theyre, didnt, mean]   \n",
       "7                  [comedy, its, funny, joke, people, because, they, can, about, laugh]   \n",
       "8             [do, play, love, that, pieces, characters, lot, youre, different, broken]   \n",
       "9                      [right, hush, snorted, correct, not, those, two, are, yeah, and]   \n",
       "10                 [okay, asshole, im, youre, points, wise, sorry, whatever, work, say]   \n",
       "11             [absolutely, bet, blank, halfway, truthful, man, through, some, all, im]   \n",
       "12     [totally, saying, no, thats, understands, fair, nerve, validation, youre, right]   \n",
       "13              [robbed, won, nominated, was, win, kids, before, feel, didnt, pressure]   \n",
       "14  [scares, worried, scared, nervous, 57, cliffs, scaring, terrified, move, dangerous]   \n",
       "15                         [love, great, using, huge, thank, very, think, im, you, and]   \n",
       "16               [90, finesse, myth, fleeting, alchemize, blast, takes, risk, it, yeah]   \n",
       "\n",
       "                                                                                                                                                                                                                                               Representative_Docs  \n",
       "0   [Yeah, it very often happens to me I've found in my work, and you're going, what am I pulling toward me? You know, it's not just that things are out there for you to go get, a lot of times these things are kind of coalescing around you and you're like...  \n",
       "1   [I committed hubris. I thought not that I was great, but that it was such a big show and it was so international. It was everywhere. That I was going to go from mountaintop to mountaintop. I was going to beat the system. I looked down and there were g...  \n",
       "2                                                                                                                                                                                                                                      [Yeah, yeah., Yeah., Yeah.]  \n",
       "3   [And we find out they're at the escape route., To a cabinet minister. And then we're working out how to get out of the hotel. And you know, we've got a back route. We always have escape routes, but then we find out, They're at the escape route so we e...  \n",
       "4   [The thing that I think that I've sort of struggled with over the last couple years is like where I grew up. I grew up in a really small town. One of the things I didn't like about that is the fact that everybody kinda knows your business, and so when...  \n",
       "5   [Yes, and he goes, \"All right, there may be a way \"out of it, but you might get arrested.\" So you're going into a scene knowing that you're trying to work out the percentage of something bad happening. And then we booked another room which was in case...  \n",
       "6                                                                                                                                                                                                                                      [Wow, wow., Wow., Oh, wow.]  \n",
       "7   [And Colbert and they're attacking this subject in a comedic way, but I do believe that when it comes down to it and the wolf is at the door there ain't nothing funny about that. And if you give them a joke about it, that's fine. It heals in that mome...  \n",
       "8   [I love him. I've only taught four or five times, and I have thoroughly enjoyed it. It is written so well that I don't know what to do.  And again, everything is, we are blessed with wonderful writers because if it's not on the page it ain't on the st...  \n",
       "9                                                                                                                                                                                                                                         [Right., Right., Right.]  \n",
       "10                                                                                                                                                        [Okay, so, I'm an asshole, is that what you're? , So I'm an asshole, is that what you're trying to say?]  \n",
       "11                                                                                                                                                                                                                         [Absolutely., Absolutely., Absolutely.]  \n",
       "12                                                                                                                                                                                                                            [Exactly., Exactly., Yeah, exactly.]  \n",
       "13  [Yeah, and the mantle of you were robbed was taken from me when I won.  And you were robbed was kind of a nice..., I loved winning it. It sits on my dining room table, which is directly opposite the front door. So when the man delivers my Lipitor he g...  \n",
       "14  [Well, maybe I'm kidding myself, but I always feel like, especially if you're saying something that's slightly dangerous, there's that cliffs of Acapulco moment., I was worried about everything, about losing it, about not getting it, about not being g...  \n",
       "15                                                                                                                                                                                                                        [I love it., I love that., I love that.]  \n",
       "16                                                                                                                                                  [But it takes a while., And 90% myth as well, so that's a tough thing to deal, But taking that risk is great.]  "
      ]
     },
     "execution_count": 26,
     "metadata": {},
     "output_type": "execute_result"
    }
   ],
   "source": [
    "topic_model.get_topic_info()"
   ]
  },
  {
   "cell_type": "code",
   "execution_count": 27,
   "metadata": {},
   "outputs": [
    {
     "data": {
      "application/vnd.plotly.v1+json": {
       "config": {
        "plotlyServerURL": "https://plot.ly"
       },
       "data": [
        {
         "customdata": [
          [
           0,
           "was | of | show | said | at",
           46
          ],
          [
           1,
           "yeah | ballsy | aw | huh | man",
           36
          ],
          [
           2,
           "route | out | go | escape | board",
           35
          ],
          [
           3,
           "people | do | be | mean | think",
           30
          ],
          [
           4,
           "secret | service | was | get | it",
           28
          ],
          [
           5,
           "wow | mm | sure | balls | truly",
           28
          ],
          [
           6,
           "comedy | its | funny | joke | people",
           25
          ],
          [
           7,
           "do | play | love | that | pieces",
           24
          ],
          [
           8,
           "right | hush | snorted | correct | not",
           20
          ],
          [
           9,
           "okay | asshole | im | youre | points",
           16
          ],
          [
           10,
           "absolutely | bet | blank | halfway | truthful",
           15
          ],
          [
           11,
           "totally | saying | no | thats | understands",
           14
          ],
          [
           12,
           "robbed | won | nominated | was | win",
           12
          ],
          [
           13,
           "scares | worried | scared | nervous | 57",
           11
          ],
          [
           14,
           "love | great | using | huge | thank",
           11
          ],
          [
           15,
           "90 | finesse | myth | fleeting | alchemize",
           10
          ]
         ],
         "hovertemplate": "<b>Topic %{customdata[0]}</b><br>%{customdata[1]}<br>Size: %{customdata[2]}",
         "legendgroup": "",
         "marker": {
          "color": "#B0BEC5",
          "line": {
           "color": "DarkSlateGrey",
           "width": 2
          },
          "size": [
           46,
           36,
           35,
           30,
           28,
           28,
           25,
           24,
           20,
           16,
           15,
           14,
           12,
           11,
           11,
           10
          ],
          "sizemode": "area",
          "sizeref": 0.02875,
          "symbol": "circle"
         },
         "mode": "markers",
         "name": "",
         "orientation": "v",
         "showlegend": false,
         "type": "scatter",
         "x": [
          -1.51022469997406,
          8.869243621826172,
          10.031744956970215,
          -6.690624713897705,
          -0.8793235421180725,
          7.707941055297852,
          -1.200497031211853,
          -6.7958502769470215,
          8.43419075012207,
          9.737398147583008,
          9.297186851501465,
          8.000516891479492,
          -1.6208138465881348,
          10.249933242797852,
          9.353270530700684,
          7.174129962921143
         ],
         "xaxis": "x",
         "y": [
          -7.572071075439453,
          3.439363479614258,
          5.178140640258789,
          1.8957074880599976,
          -6.9407572746276855,
          2.4949440956115723,
          -7.263238906860352,
          2.001004457473755,
          2.851437568664551,
          4.709560394287109,
          3.976529359817505,
          2.1105339527130127,
          -7.682663440704346,
          5.498826503753662,
          4.818193435668945,
          2.520623207092285
         ],
         "yaxis": "y"
        }
       ],
       "layout": {
        "annotations": [
         {
          "showarrow": false,
          "text": "D1",
          "x": -7.815227818489075,
          "y": -1.2557062387466429,
          "yshift": 10
         },
         {
          "showarrow": false,
          "text": "D2",
          "x": 1.986097705364227,
          "xshift": 10,
          "y": 6.323650479316711
         }
        ],
        "height": 650,
        "hoverlabel": {
         "bgcolor": "white",
         "font": {
          "family": "Rockwell",
          "size": 16
         }
        },
        "legend": {
         "itemsizing": "constant",
         "tracegroupgap": 0
        },
        "margin": {
         "t": 60
        },
        "shapes": [
         {
          "line": {
           "color": "#CFD8DC",
           "width": 2
          },
          "type": "line",
          "x0": 1.986097705364227,
          "x1": 1.986097705364227,
          "y0": -8.835062956809997,
          "y1": 6.323650479316711
         },
         {
          "line": {
           "color": "#9E9E9E",
           "width": 2
          },
          "type": "line",
          "x0": -7.815227818489075,
          "x1": 11.787423229217529,
          "y0": -1.2557062387466429,
          "y1": -1.2557062387466429
         }
        ],
        "sliders": [
         {
          "active": 0,
          "pad": {
           "t": 50
          },
          "steps": [
           {
            "args": [
             {
              "marker.color": [
               [
                "red",
                "#B0BEC5",
                "#B0BEC5",
                "#B0BEC5",
                "#B0BEC5",
                "#B0BEC5",
                "#B0BEC5",
                "#B0BEC5",
                "#B0BEC5",
                "#B0BEC5",
                "#B0BEC5",
                "#B0BEC5",
                "#B0BEC5",
                "#B0BEC5",
                "#B0BEC5",
                "#B0BEC5"
               ]
              ]
             }
            ],
            "label": "Topic 0",
            "method": "update"
           },
           {
            "args": [
             {
              "marker.color": [
               [
                "#B0BEC5",
                "red",
                "#B0BEC5",
                "#B0BEC5",
                "#B0BEC5",
                "#B0BEC5",
                "#B0BEC5",
                "#B0BEC5",
                "#B0BEC5",
                "#B0BEC5",
                "#B0BEC5",
                "#B0BEC5",
                "#B0BEC5",
                "#B0BEC5",
                "#B0BEC5",
                "#B0BEC5"
               ]
              ]
             }
            ],
            "label": "Topic 1",
            "method": "update"
           },
           {
            "args": [
             {
              "marker.color": [
               [
                "#B0BEC5",
                "#B0BEC5",
                "red",
                "#B0BEC5",
                "#B0BEC5",
                "#B0BEC5",
                "#B0BEC5",
                "#B0BEC5",
                "#B0BEC5",
                "#B0BEC5",
                "#B0BEC5",
                "#B0BEC5",
                "#B0BEC5",
                "#B0BEC5",
                "#B0BEC5",
                "#B0BEC5"
               ]
              ]
             }
            ],
            "label": "Topic 2",
            "method": "update"
           },
           {
            "args": [
             {
              "marker.color": [
               [
                "#B0BEC5",
                "#B0BEC5",
                "#B0BEC5",
                "red",
                "#B0BEC5",
                "#B0BEC5",
                "#B0BEC5",
                "#B0BEC5",
                "#B0BEC5",
                "#B0BEC5",
                "#B0BEC5",
                "#B0BEC5",
                "#B0BEC5",
                "#B0BEC5",
                "#B0BEC5",
                "#B0BEC5"
               ]
              ]
             }
            ],
            "label": "Topic 3",
            "method": "update"
           },
           {
            "args": [
             {
              "marker.color": [
               [
                "#B0BEC5",
                "#B0BEC5",
                "#B0BEC5",
                "#B0BEC5",
                "red",
                "#B0BEC5",
                "#B0BEC5",
                "#B0BEC5",
                "#B0BEC5",
                "#B0BEC5",
                "#B0BEC5",
                "#B0BEC5",
                "#B0BEC5",
                "#B0BEC5",
                "#B0BEC5",
                "#B0BEC5"
               ]
              ]
             }
            ],
            "label": "Topic 4",
            "method": "update"
           },
           {
            "args": [
             {
              "marker.color": [
               [
                "#B0BEC5",
                "#B0BEC5",
                "#B0BEC5",
                "#B0BEC5",
                "#B0BEC5",
                "red",
                "#B0BEC5",
                "#B0BEC5",
                "#B0BEC5",
                "#B0BEC5",
                "#B0BEC5",
                "#B0BEC5",
                "#B0BEC5",
                "#B0BEC5",
                "#B0BEC5",
                "#B0BEC5"
               ]
              ]
             }
            ],
            "label": "Topic 5",
            "method": "update"
           },
           {
            "args": [
             {
              "marker.color": [
               [
                "#B0BEC5",
                "#B0BEC5",
                "#B0BEC5",
                "#B0BEC5",
                "#B0BEC5",
                "#B0BEC5",
                "red",
                "#B0BEC5",
                "#B0BEC5",
                "#B0BEC5",
                "#B0BEC5",
                "#B0BEC5",
                "#B0BEC5",
                "#B0BEC5",
                "#B0BEC5",
                "#B0BEC5"
               ]
              ]
             }
            ],
            "label": "Topic 6",
            "method": "update"
           },
           {
            "args": [
             {
              "marker.color": [
               [
                "#B0BEC5",
                "#B0BEC5",
                "#B0BEC5",
                "#B0BEC5",
                "#B0BEC5",
                "#B0BEC5",
                "#B0BEC5",
                "red",
                "#B0BEC5",
                "#B0BEC5",
                "#B0BEC5",
                "#B0BEC5",
                "#B0BEC5",
                "#B0BEC5",
                "#B0BEC5",
                "#B0BEC5"
               ]
              ]
             }
            ],
            "label": "Topic 7",
            "method": "update"
           },
           {
            "args": [
             {
              "marker.color": [
               [
                "#B0BEC5",
                "#B0BEC5",
                "#B0BEC5",
                "#B0BEC5",
                "#B0BEC5",
                "#B0BEC5",
                "#B0BEC5",
                "#B0BEC5",
                "red",
                "#B0BEC5",
                "#B0BEC5",
                "#B0BEC5",
                "#B0BEC5",
                "#B0BEC5",
                "#B0BEC5",
                "#B0BEC5"
               ]
              ]
             }
            ],
            "label": "Topic 8",
            "method": "update"
           },
           {
            "args": [
             {
              "marker.color": [
               [
                "#B0BEC5",
                "#B0BEC5",
                "#B0BEC5",
                "#B0BEC5",
                "#B0BEC5",
                "#B0BEC5",
                "#B0BEC5",
                "#B0BEC5",
                "#B0BEC5",
                "red",
                "#B0BEC5",
                "#B0BEC5",
                "#B0BEC5",
                "#B0BEC5",
                "#B0BEC5",
                "#B0BEC5"
               ]
              ]
             }
            ],
            "label": "Topic 9",
            "method": "update"
           },
           {
            "args": [
             {
              "marker.color": [
               [
                "#B0BEC5",
                "#B0BEC5",
                "#B0BEC5",
                "#B0BEC5",
                "#B0BEC5",
                "#B0BEC5",
                "#B0BEC5",
                "#B0BEC5",
                "#B0BEC5",
                "#B0BEC5",
                "red",
                "#B0BEC5",
                "#B0BEC5",
                "#B0BEC5",
                "#B0BEC5",
                "#B0BEC5"
               ]
              ]
             }
            ],
            "label": "Topic 10",
            "method": "update"
           },
           {
            "args": [
             {
              "marker.color": [
               [
                "#B0BEC5",
                "#B0BEC5",
                "#B0BEC5",
                "#B0BEC5",
                "#B0BEC5",
                "#B0BEC5",
                "#B0BEC5",
                "#B0BEC5",
                "#B0BEC5",
                "#B0BEC5",
                "#B0BEC5",
                "red",
                "#B0BEC5",
                "#B0BEC5",
                "#B0BEC5",
                "#B0BEC5"
               ]
              ]
             }
            ],
            "label": "Topic 11",
            "method": "update"
           },
           {
            "args": [
             {
              "marker.color": [
               [
                "#B0BEC5",
                "#B0BEC5",
                "#B0BEC5",
                "#B0BEC5",
                "#B0BEC5",
                "#B0BEC5",
                "#B0BEC5",
                "#B0BEC5",
                "#B0BEC5",
                "#B0BEC5",
                "#B0BEC5",
                "#B0BEC5",
                "red",
                "#B0BEC5",
                "#B0BEC5",
                "#B0BEC5"
               ]
              ]
             }
            ],
            "label": "Topic 12",
            "method": "update"
           },
           {
            "args": [
             {
              "marker.color": [
               [
                "#B0BEC5",
                "#B0BEC5",
                "#B0BEC5",
                "#B0BEC5",
                "#B0BEC5",
                "#B0BEC5",
                "#B0BEC5",
                "#B0BEC5",
                "#B0BEC5",
                "#B0BEC5",
                "#B0BEC5",
                "#B0BEC5",
                "#B0BEC5",
                "red",
                "#B0BEC5",
                "#B0BEC5"
               ]
              ]
             }
            ],
            "label": "Topic 13",
            "method": "update"
           },
           {
            "args": [
             {
              "marker.color": [
               [
                "#B0BEC5",
                "#B0BEC5",
                "#B0BEC5",
                "#B0BEC5",
                "#B0BEC5",
                "#B0BEC5",
                "#B0BEC5",
                "#B0BEC5",
                "#B0BEC5",
                "#B0BEC5",
                "#B0BEC5",
                "#B0BEC5",
                "#B0BEC5",
                "#B0BEC5",
                "red",
                "#B0BEC5"
               ]
              ]
             }
            ],
            "label": "Topic 14",
            "method": "update"
           },
           {
            "args": [
             {
              "marker.color": [
               [
                "#B0BEC5",
                "#B0BEC5",
                "#B0BEC5",
                "#B0BEC5",
                "#B0BEC5",
                "#B0BEC5",
                "#B0BEC5",
                "#B0BEC5",
                "#B0BEC5",
                "#B0BEC5",
                "#B0BEC5",
                "#B0BEC5",
                "#B0BEC5",
                "#B0BEC5",
                "#B0BEC5",
                "red"
               ]
              ]
             }
            ],
            "label": "Topic 15",
            "method": "update"
           }
          ]
         }
        ],
        "template": {
         "data": {
          "bar": [
           {
            "error_x": {
             "color": "rgb(36,36,36)"
            },
            "error_y": {
             "color": "rgb(36,36,36)"
            },
            "marker": {
             "line": {
              "color": "white",
              "width": 0.5
             },
             "pattern": {
              "fillmode": "overlay",
              "size": 10,
              "solidity": 0.2
             }
            },
            "type": "bar"
           }
          ],
          "barpolar": [
           {
            "marker": {
             "line": {
              "color": "white",
              "width": 0.5
             },
             "pattern": {
              "fillmode": "overlay",
              "size": 10,
              "solidity": 0.2
             }
            },
            "type": "barpolar"
           }
          ],
          "carpet": [
           {
            "aaxis": {
             "endlinecolor": "rgb(36,36,36)",
             "gridcolor": "white",
             "linecolor": "white",
             "minorgridcolor": "white",
             "startlinecolor": "rgb(36,36,36)"
            },
            "baxis": {
             "endlinecolor": "rgb(36,36,36)",
             "gridcolor": "white",
             "linecolor": "white",
             "minorgridcolor": "white",
             "startlinecolor": "rgb(36,36,36)"
            },
            "type": "carpet"
           }
          ],
          "choropleth": [
           {
            "colorbar": {
             "outlinewidth": 1,
             "tickcolor": "rgb(36,36,36)",
             "ticks": "outside"
            },
            "type": "choropleth"
           }
          ],
          "contour": [
           {
            "colorbar": {
             "outlinewidth": 1,
             "tickcolor": "rgb(36,36,36)",
             "ticks": "outside"
            },
            "colorscale": [
             [
              0,
              "#440154"
             ],
             [
              0.1111111111111111,
              "#482878"
             ],
             [
              0.2222222222222222,
              "#3e4989"
             ],
             [
              0.3333333333333333,
              "#31688e"
             ],
             [
              0.4444444444444444,
              "#26828e"
             ],
             [
              0.5555555555555556,
              "#1f9e89"
             ],
             [
              0.6666666666666666,
              "#35b779"
             ],
             [
              0.7777777777777778,
              "#6ece58"
             ],
             [
              0.8888888888888888,
              "#b5de2b"
             ],
             [
              1,
              "#fde725"
             ]
            ],
            "type": "contour"
           }
          ],
          "contourcarpet": [
           {
            "colorbar": {
             "outlinewidth": 1,
             "tickcolor": "rgb(36,36,36)",
             "ticks": "outside"
            },
            "type": "contourcarpet"
           }
          ],
          "heatmap": [
           {
            "colorbar": {
             "outlinewidth": 1,
             "tickcolor": "rgb(36,36,36)",
             "ticks": "outside"
            },
            "colorscale": [
             [
              0,
              "#440154"
             ],
             [
              0.1111111111111111,
              "#482878"
             ],
             [
              0.2222222222222222,
              "#3e4989"
             ],
             [
              0.3333333333333333,
              "#31688e"
             ],
             [
              0.4444444444444444,
              "#26828e"
             ],
             [
              0.5555555555555556,
              "#1f9e89"
             ],
             [
              0.6666666666666666,
              "#35b779"
             ],
             [
              0.7777777777777778,
              "#6ece58"
             ],
             [
              0.8888888888888888,
              "#b5de2b"
             ],
             [
              1,
              "#fde725"
             ]
            ],
            "type": "heatmap"
           }
          ],
          "heatmapgl": [
           {
            "colorbar": {
             "outlinewidth": 1,
             "tickcolor": "rgb(36,36,36)",
             "ticks": "outside"
            },
            "colorscale": [
             [
              0,
              "#440154"
             ],
             [
              0.1111111111111111,
              "#482878"
             ],
             [
              0.2222222222222222,
              "#3e4989"
             ],
             [
              0.3333333333333333,
              "#31688e"
             ],
             [
              0.4444444444444444,
              "#26828e"
             ],
             [
              0.5555555555555556,
              "#1f9e89"
             ],
             [
              0.6666666666666666,
              "#35b779"
             ],
             [
              0.7777777777777778,
              "#6ece58"
             ],
             [
              0.8888888888888888,
              "#b5de2b"
             ],
             [
              1,
              "#fde725"
             ]
            ],
            "type": "heatmapgl"
           }
          ],
          "histogram": [
           {
            "marker": {
             "line": {
              "color": "white",
              "width": 0.6
             }
            },
            "type": "histogram"
           }
          ],
          "histogram2d": [
           {
            "colorbar": {
             "outlinewidth": 1,
             "tickcolor": "rgb(36,36,36)",
             "ticks": "outside"
            },
            "colorscale": [
             [
              0,
              "#440154"
             ],
             [
              0.1111111111111111,
              "#482878"
             ],
             [
              0.2222222222222222,
              "#3e4989"
             ],
             [
              0.3333333333333333,
              "#31688e"
             ],
             [
              0.4444444444444444,
              "#26828e"
             ],
             [
              0.5555555555555556,
              "#1f9e89"
             ],
             [
              0.6666666666666666,
              "#35b779"
             ],
             [
              0.7777777777777778,
              "#6ece58"
             ],
             [
              0.8888888888888888,
              "#b5de2b"
             ],
             [
              1,
              "#fde725"
             ]
            ],
            "type": "histogram2d"
           }
          ],
          "histogram2dcontour": [
           {
            "colorbar": {
             "outlinewidth": 1,
             "tickcolor": "rgb(36,36,36)",
             "ticks": "outside"
            },
            "colorscale": [
             [
              0,
              "#440154"
             ],
             [
              0.1111111111111111,
              "#482878"
             ],
             [
              0.2222222222222222,
              "#3e4989"
             ],
             [
              0.3333333333333333,
              "#31688e"
             ],
             [
              0.4444444444444444,
              "#26828e"
             ],
             [
              0.5555555555555556,
              "#1f9e89"
             ],
             [
              0.6666666666666666,
              "#35b779"
             ],
             [
              0.7777777777777778,
              "#6ece58"
             ],
             [
              0.8888888888888888,
              "#b5de2b"
             ],
             [
              1,
              "#fde725"
             ]
            ],
            "type": "histogram2dcontour"
           }
          ],
          "mesh3d": [
           {
            "colorbar": {
             "outlinewidth": 1,
             "tickcolor": "rgb(36,36,36)",
             "ticks": "outside"
            },
            "type": "mesh3d"
           }
          ],
          "parcoords": [
           {
            "line": {
             "colorbar": {
              "outlinewidth": 1,
              "tickcolor": "rgb(36,36,36)",
              "ticks": "outside"
             }
            },
            "type": "parcoords"
           }
          ],
          "pie": [
           {
            "automargin": true,
            "type": "pie"
           }
          ],
          "scatter": [
           {
            "fillpattern": {
             "fillmode": "overlay",
             "size": 10,
             "solidity": 0.2
            },
            "type": "scatter"
           }
          ],
          "scatter3d": [
           {
            "line": {
             "colorbar": {
              "outlinewidth": 1,
              "tickcolor": "rgb(36,36,36)",
              "ticks": "outside"
             }
            },
            "marker": {
             "colorbar": {
              "outlinewidth": 1,
              "tickcolor": "rgb(36,36,36)",
              "ticks": "outside"
             }
            },
            "type": "scatter3d"
           }
          ],
          "scattercarpet": [
           {
            "marker": {
             "colorbar": {
              "outlinewidth": 1,
              "tickcolor": "rgb(36,36,36)",
              "ticks": "outside"
             }
            },
            "type": "scattercarpet"
           }
          ],
          "scattergeo": [
           {
            "marker": {
             "colorbar": {
              "outlinewidth": 1,
              "tickcolor": "rgb(36,36,36)",
              "ticks": "outside"
             }
            },
            "type": "scattergeo"
           }
          ],
          "scattergl": [
           {
            "marker": {
             "colorbar": {
              "outlinewidth": 1,
              "tickcolor": "rgb(36,36,36)",
              "ticks": "outside"
             }
            },
            "type": "scattergl"
           }
          ],
          "scattermapbox": [
           {
            "marker": {
             "colorbar": {
              "outlinewidth": 1,
              "tickcolor": "rgb(36,36,36)",
              "ticks": "outside"
             }
            },
            "type": "scattermapbox"
           }
          ],
          "scatterpolar": [
           {
            "marker": {
             "colorbar": {
              "outlinewidth": 1,
              "tickcolor": "rgb(36,36,36)",
              "ticks": "outside"
             }
            },
            "type": "scatterpolar"
           }
          ],
          "scatterpolargl": [
           {
            "marker": {
             "colorbar": {
              "outlinewidth": 1,
              "tickcolor": "rgb(36,36,36)",
              "ticks": "outside"
             }
            },
            "type": "scatterpolargl"
           }
          ],
          "scatterternary": [
           {
            "marker": {
             "colorbar": {
              "outlinewidth": 1,
              "tickcolor": "rgb(36,36,36)",
              "ticks": "outside"
             }
            },
            "type": "scatterternary"
           }
          ],
          "surface": [
           {
            "colorbar": {
             "outlinewidth": 1,
             "tickcolor": "rgb(36,36,36)",
             "ticks": "outside"
            },
            "colorscale": [
             [
              0,
              "#440154"
             ],
             [
              0.1111111111111111,
              "#482878"
             ],
             [
              0.2222222222222222,
              "#3e4989"
             ],
             [
              0.3333333333333333,
              "#31688e"
             ],
             [
              0.4444444444444444,
              "#26828e"
             ],
             [
              0.5555555555555556,
              "#1f9e89"
             ],
             [
              0.6666666666666666,
              "#35b779"
             ],
             [
              0.7777777777777778,
              "#6ece58"
             ],
             [
              0.8888888888888888,
              "#b5de2b"
             ],
             [
              1,
              "#fde725"
             ]
            ],
            "type": "surface"
           }
          ],
          "table": [
           {
            "cells": {
             "fill": {
              "color": "rgb(237,237,237)"
             },
             "line": {
              "color": "white"
             }
            },
            "header": {
             "fill": {
              "color": "rgb(217,217,217)"
             },
             "line": {
              "color": "white"
             }
            },
            "type": "table"
           }
          ]
         },
         "layout": {
          "annotationdefaults": {
           "arrowhead": 0,
           "arrowwidth": 1
          },
          "autotypenumbers": "strict",
          "coloraxis": {
           "colorbar": {
            "outlinewidth": 1,
            "tickcolor": "rgb(36,36,36)",
            "ticks": "outside"
           }
          },
          "colorscale": {
           "diverging": [
            [
             0,
             "rgb(103,0,31)"
            ],
            [
             0.1,
             "rgb(178,24,43)"
            ],
            [
             0.2,
             "rgb(214,96,77)"
            ],
            [
             0.3,
             "rgb(244,165,130)"
            ],
            [
             0.4,
             "rgb(253,219,199)"
            ],
            [
             0.5,
             "rgb(247,247,247)"
            ],
            [
             0.6,
             "rgb(209,229,240)"
            ],
            [
             0.7,
             "rgb(146,197,222)"
            ],
            [
             0.8,
             "rgb(67,147,195)"
            ],
            [
             0.9,
             "rgb(33,102,172)"
            ],
            [
             1,
             "rgb(5,48,97)"
            ]
           ],
           "sequential": [
            [
             0,
             "#440154"
            ],
            [
             0.1111111111111111,
             "#482878"
            ],
            [
             0.2222222222222222,
             "#3e4989"
            ],
            [
             0.3333333333333333,
             "#31688e"
            ],
            [
             0.4444444444444444,
             "#26828e"
            ],
            [
             0.5555555555555556,
             "#1f9e89"
            ],
            [
             0.6666666666666666,
             "#35b779"
            ],
            [
             0.7777777777777778,
             "#6ece58"
            ],
            [
             0.8888888888888888,
             "#b5de2b"
            ],
            [
             1,
             "#fde725"
            ]
           ],
           "sequentialminus": [
            [
             0,
             "#440154"
            ],
            [
             0.1111111111111111,
             "#482878"
            ],
            [
             0.2222222222222222,
             "#3e4989"
            ],
            [
             0.3333333333333333,
             "#31688e"
            ],
            [
             0.4444444444444444,
             "#26828e"
            ],
            [
             0.5555555555555556,
             "#1f9e89"
            ],
            [
             0.6666666666666666,
             "#35b779"
            ],
            [
             0.7777777777777778,
             "#6ece58"
            ],
            [
             0.8888888888888888,
             "#b5de2b"
            ],
            [
             1,
             "#fde725"
            ]
           ]
          },
          "colorway": [
           "#1F77B4",
           "#FF7F0E",
           "#2CA02C",
           "#D62728",
           "#9467BD",
           "#8C564B",
           "#E377C2",
           "#7F7F7F",
           "#BCBD22",
           "#17BECF"
          ],
          "font": {
           "color": "rgb(36,36,36)"
          },
          "geo": {
           "bgcolor": "white",
           "lakecolor": "white",
           "landcolor": "white",
           "showlakes": true,
           "showland": true,
           "subunitcolor": "white"
          },
          "hoverlabel": {
           "align": "left"
          },
          "hovermode": "closest",
          "mapbox": {
           "style": "light"
          },
          "paper_bgcolor": "white",
          "plot_bgcolor": "white",
          "polar": {
           "angularaxis": {
            "gridcolor": "rgb(232,232,232)",
            "linecolor": "rgb(36,36,36)",
            "showgrid": false,
            "showline": true,
            "ticks": "outside"
           },
           "bgcolor": "white",
           "radialaxis": {
            "gridcolor": "rgb(232,232,232)",
            "linecolor": "rgb(36,36,36)",
            "showgrid": false,
            "showline": true,
            "ticks": "outside"
           }
          },
          "scene": {
           "xaxis": {
            "backgroundcolor": "white",
            "gridcolor": "rgb(232,232,232)",
            "gridwidth": 2,
            "linecolor": "rgb(36,36,36)",
            "showbackground": true,
            "showgrid": false,
            "showline": true,
            "ticks": "outside",
            "zeroline": false,
            "zerolinecolor": "rgb(36,36,36)"
           },
           "yaxis": {
            "backgroundcolor": "white",
            "gridcolor": "rgb(232,232,232)",
            "gridwidth": 2,
            "linecolor": "rgb(36,36,36)",
            "showbackground": true,
            "showgrid": false,
            "showline": true,
            "ticks": "outside",
            "zeroline": false,
            "zerolinecolor": "rgb(36,36,36)"
           },
           "zaxis": {
            "backgroundcolor": "white",
            "gridcolor": "rgb(232,232,232)",
            "gridwidth": 2,
            "linecolor": "rgb(36,36,36)",
            "showbackground": true,
            "showgrid": false,
            "showline": true,
            "ticks": "outside",
            "zeroline": false,
            "zerolinecolor": "rgb(36,36,36)"
           }
          },
          "shapedefaults": {
           "fillcolor": "black",
           "line": {
            "width": 0
           },
           "opacity": 0.3
          },
          "ternary": {
           "aaxis": {
            "gridcolor": "rgb(232,232,232)",
            "linecolor": "rgb(36,36,36)",
            "showgrid": false,
            "showline": true,
            "ticks": "outside"
           },
           "baxis": {
            "gridcolor": "rgb(232,232,232)",
            "linecolor": "rgb(36,36,36)",
            "showgrid": false,
            "showline": true,
            "ticks": "outside"
           },
           "bgcolor": "white",
           "caxis": {
            "gridcolor": "rgb(232,232,232)",
            "linecolor": "rgb(36,36,36)",
            "showgrid": false,
            "showline": true,
            "ticks": "outside"
           }
          },
          "title": {
           "x": 0.05
          },
          "xaxis": {
           "automargin": true,
           "gridcolor": "rgb(232,232,232)",
           "linecolor": "rgb(36,36,36)",
           "showgrid": false,
           "showline": true,
           "ticks": "outside",
           "title": {
            "standoff": 15
           },
           "zeroline": false,
           "zerolinecolor": "rgb(36,36,36)"
          },
          "yaxis": {
           "automargin": true,
           "gridcolor": "rgb(232,232,232)",
           "linecolor": "rgb(36,36,36)",
           "showgrid": false,
           "showline": true,
           "ticks": "outside",
           "title": {
            "standoff": 15
           },
           "zeroline": false,
           "zerolinecolor": "rgb(36,36,36)"
          }
         }
        },
        "title": {
         "font": {
          "color": "Black",
          "size": 22
         },
         "text": "<b>Intertopic Distance Map</b>",
         "x": 0.5,
         "xanchor": "center",
         "y": 0.95,
         "yanchor": "top"
        },
        "width": 650,
        "xaxis": {
         "anchor": "y",
         "domain": [
          0,
          1
         ],
         "range": [
          -7.815227818489075,
          11.787423229217529
         ],
         "title": {
          "text": ""
         },
         "visible": false
        },
        "yaxis": {
         "anchor": "x",
         "domain": [
          0,
          1
         ],
         "range": [
          -8.835062956809997,
          6.323650479316711
         ],
         "title": {
          "text": ""
         },
         "visible": false
        }
       }
      }
     },
     "metadata": {},
     "output_type": "display_data"
    }
   ],
   "source": [
    "topic_model.visualize_topics()"
   ]
  },
  {
   "cell_type": "code",
   "execution_count": 41,
   "metadata": {},
   "outputs": [
    {
     "data": {
      "application/vnd.plotly.v1+json": {
       "config": {
        "plotlyServerURL": "https://plot.ly"
       },
       "data": [
        {
         "hoverinfo": "text",
         "marker": {
          "color": "rgb(61,153,112)"
         },
         "mode": "lines",
         "type": "scatter",
         "x": [
          0,
          0.849707602876018,
          0.849707602876018,
          0
         ],
         "xaxis": "x",
         "y": [
          -5,
          -5,
          -15,
          -15
         ],
         "yaxis": "y"
        },
        {
         "hoverinfo": "text",
         "marker": {
          "color": "rgb(255,65,54)"
         },
         "mode": "lines",
         "type": "scatter",
         "x": [
          0,
          0.4420853924836653,
          0.4420853924836653,
          0
         ],
         "xaxis": "x",
         "y": [
          -35,
          -35,
          -45,
          -45
         ],
         "yaxis": "y"
        },
        {
         "hoverinfo": "text",
         "marker": {
          "color": "rgb(255,65,54)"
         },
         "mode": "lines",
         "type": "scatter",
         "x": [
          0,
          0.4162729643896831,
          0.4162729643896831,
          0
         ],
         "xaxis": "x",
         "y": [
          -55,
          -55,
          -65,
          -65
         ],
         "yaxis": "y"
        },
        {
         "hoverinfo": "text",
         "marker": {
          "color": "rgb(255,65,54)"
         },
         "mode": "lines",
         "type": "scatter",
         "x": [
          0.4162729643896831,
          0.5037513049123186,
          0.5037513049123186,
          0
         ],
         "xaxis": "x",
         "y": [
          -60,
          -60,
          -75,
          -75
         ],
         "yaxis": "y"
        },
        {
         "hoverinfo": "text",
         "marker": {
          "color": "rgb(255,65,54)"
         },
         "mode": "lines",
         "type": "scatter",
         "x": [
          0.4420853924836653,
          0.5966433855503923,
          0.5966433855503923,
          0.5037513049123186
         ],
         "xaxis": "x",
         "y": [
          -40,
          -40,
          -67.5,
          -67.5
         ],
         "yaxis": "y"
        },
        {
         "hoverinfo": "text",
         "marker": {
          "color": "rgb(255,65,54)"
         },
         "mode": "lines",
         "type": "scatter",
         "x": [
          0,
          0.6806585556615975,
          0.6806585556615975,
          0.5966433855503923
         ],
         "xaxis": "x",
         "y": [
          -25,
          -25,
          -53.75,
          -53.75
         ],
         "yaxis": "y"
        },
        {
         "hoverinfo": "text",
         "marker": {
          "color": "rgb(255,65,54)"
         },
         "mode": "lines",
         "type": "scatter",
         "x": [
          0.6806585556615975,
          0.7972549288978852,
          0.7972549288978852,
          0
         ],
         "xaxis": "x",
         "y": [
          -39.375,
          -39.375,
          -85,
          -85
         ],
         "yaxis": "y"
        },
        {
         "hoverinfo": "text",
         "marker": {
          "color": "rgb(0,116,217)"
         },
         "mode": "lines",
         "type": "scatter",
         "x": [
          0.849707602876018,
          1.0425216038497898,
          1.0425216038497898,
          0.7972549288978852
         ],
         "xaxis": "x",
         "y": [
          -10,
          -10,
          -62.1875,
          -62.1875
         ],
         "yaxis": "y"
        },
        {
         "hoverinfo": "text",
         "marker": {
          "color": "rgb(35,205,205)"
         },
         "mode": "lines",
         "type": "scatter",
         "x": [
          0,
          0.8595002096940011,
          0.8595002096940011,
          0
         ],
         "xaxis": "x",
         "y": [
          -105,
          -105,
          -115,
          -115
         ],
         "yaxis": "y"
        },
        {
         "hoverinfo": "text",
         "marker": {
          "color": "rgb(35,205,205)"
         },
         "mode": "lines",
         "type": "scatter",
         "x": [
          0,
          0.8864054820646743,
          0.8864054820646743,
          0.8595002096940011
         ],
         "xaxis": "x",
         "y": [
          -95,
          -95,
          -110,
          -110
         ],
         "yaxis": "y"
        },
        {
         "hoverinfo": "text",
         "marker": {
          "color": "rgb(133,20,75)"
         },
         "mode": "lines",
         "type": "scatter",
         "x": [
          0,
          0.7447386461756784,
          0.7447386461756784,
          0
         ],
         "xaxis": "x",
         "y": [
          -135,
          -135,
          -145,
          -145
         ],
         "yaxis": "y"
        },
        {
         "hoverinfo": "text",
         "marker": {
          "color": "rgb(133,20,75)"
         },
         "mode": "lines",
         "type": "scatter",
         "x": [
          0,
          0.9705786704450532,
          0.9705786704450532,
          0.7447386461756784
         ],
         "xaxis": "x",
         "y": [
          -125,
          -125,
          -140,
          -140
         ],
         "yaxis": "y"
        },
        {
         "hoverinfo": "text",
         "marker": {
          "color": "rgb(133,20,75)"
         },
         "mode": "lines",
         "type": "scatter",
         "x": [
          0.9705786704450532,
          0.9915955139371926,
          0.9915955139371926,
          0
         ],
         "xaxis": "x",
         "y": [
          -132.5,
          -132.5,
          -155,
          -155
         ],
         "yaxis": "y"
        },
        {
         "hoverinfo": "text",
         "marker": {
          "color": "rgb(0,116,217)"
         },
         "mode": "lines",
         "type": "scatter",
         "x": [
          0.8864054820646743,
          1.1245311283150776,
          1.1245311283150776,
          0.9915955139371926
         ],
         "xaxis": "x",
         "y": [
          -102.5,
          -102.5,
          -143.75,
          -143.75
         ],
         "yaxis": "y"
        },
        {
         "hoverinfo": "text",
         "marker": {
          "color": "rgb(0,116,217)"
         },
         "mode": "lines",
         "type": "scatter",
         "x": [
          1.0425216038497898,
          1.372670284092982,
          1.372670284092982,
          1.1245311283150776
         ],
         "xaxis": "x",
         "y": [
          -36.09375,
          -36.09375,
          -123.125,
          -123.125
         ],
         "yaxis": "y"
        }
       ],
       "layout": {
        "autosize": false,
        "height": 440,
        "hoverlabel": {
         "bgcolor": "white",
         "font": {
          "family": "Rockwell",
          "size": 16
         }
        },
        "hovermode": "closest",
        "plot_bgcolor": "#ECEFF1",
        "showlegend": false,
        "template": {
         "data": {
          "bar": [
           {
            "error_x": {
             "color": "#2a3f5f"
            },
            "error_y": {
             "color": "#2a3f5f"
            },
            "marker": {
             "line": {
              "color": "white",
              "width": 0.5
             },
             "pattern": {
              "fillmode": "overlay",
              "size": 10,
              "solidity": 0.2
             }
            },
            "type": "bar"
           }
          ],
          "barpolar": [
           {
            "marker": {
             "line": {
              "color": "white",
              "width": 0.5
             },
             "pattern": {
              "fillmode": "overlay",
              "size": 10,
              "solidity": 0.2
             }
            },
            "type": "barpolar"
           }
          ],
          "carpet": [
           {
            "aaxis": {
             "endlinecolor": "#2a3f5f",
             "gridcolor": "#C8D4E3",
             "linecolor": "#C8D4E3",
             "minorgridcolor": "#C8D4E3",
             "startlinecolor": "#2a3f5f"
            },
            "baxis": {
             "endlinecolor": "#2a3f5f",
             "gridcolor": "#C8D4E3",
             "linecolor": "#C8D4E3",
             "minorgridcolor": "#C8D4E3",
             "startlinecolor": "#2a3f5f"
            },
            "type": "carpet"
           }
          ],
          "choropleth": [
           {
            "colorbar": {
             "outlinewidth": 0,
             "ticks": ""
            },
            "type": "choropleth"
           }
          ],
          "contour": [
           {
            "colorbar": {
             "outlinewidth": 0,
             "ticks": ""
            },
            "colorscale": [
             [
              0,
              "#0d0887"
             ],
             [
              0.1111111111111111,
              "#46039f"
             ],
             [
              0.2222222222222222,
              "#7201a8"
             ],
             [
              0.3333333333333333,
              "#9c179e"
             ],
             [
              0.4444444444444444,
              "#bd3786"
             ],
             [
              0.5555555555555556,
              "#d8576b"
             ],
             [
              0.6666666666666666,
              "#ed7953"
             ],
             [
              0.7777777777777778,
              "#fb9f3a"
             ],
             [
              0.8888888888888888,
              "#fdca26"
             ],
             [
              1,
              "#f0f921"
             ]
            ],
            "type": "contour"
           }
          ],
          "contourcarpet": [
           {
            "colorbar": {
             "outlinewidth": 0,
             "ticks": ""
            },
            "type": "contourcarpet"
           }
          ],
          "heatmap": [
           {
            "colorbar": {
             "outlinewidth": 0,
             "ticks": ""
            },
            "colorscale": [
             [
              0,
              "#0d0887"
             ],
             [
              0.1111111111111111,
              "#46039f"
             ],
             [
              0.2222222222222222,
              "#7201a8"
             ],
             [
              0.3333333333333333,
              "#9c179e"
             ],
             [
              0.4444444444444444,
              "#bd3786"
             ],
             [
              0.5555555555555556,
              "#d8576b"
             ],
             [
              0.6666666666666666,
              "#ed7953"
             ],
             [
              0.7777777777777778,
              "#fb9f3a"
             ],
             [
              0.8888888888888888,
              "#fdca26"
             ],
             [
              1,
              "#f0f921"
             ]
            ],
            "type": "heatmap"
           }
          ],
          "heatmapgl": [
           {
            "colorbar": {
             "outlinewidth": 0,
             "ticks": ""
            },
            "colorscale": [
             [
              0,
              "#0d0887"
             ],
             [
              0.1111111111111111,
              "#46039f"
             ],
             [
              0.2222222222222222,
              "#7201a8"
             ],
             [
              0.3333333333333333,
              "#9c179e"
             ],
             [
              0.4444444444444444,
              "#bd3786"
             ],
             [
              0.5555555555555556,
              "#d8576b"
             ],
             [
              0.6666666666666666,
              "#ed7953"
             ],
             [
              0.7777777777777778,
              "#fb9f3a"
             ],
             [
              0.8888888888888888,
              "#fdca26"
             ],
             [
              1,
              "#f0f921"
             ]
            ],
            "type": "heatmapgl"
           }
          ],
          "histogram": [
           {
            "marker": {
             "pattern": {
              "fillmode": "overlay",
              "size": 10,
              "solidity": 0.2
             }
            },
            "type": "histogram"
           }
          ],
          "histogram2d": [
           {
            "colorbar": {
             "outlinewidth": 0,
             "ticks": ""
            },
            "colorscale": [
             [
              0,
              "#0d0887"
             ],
             [
              0.1111111111111111,
              "#46039f"
             ],
             [
              0.2222222222222222,
              "#7201a8"
             ],
             [
              0.3333333333333333,
              "#9c179e"
             ],
             [
              0.4444444444444444,
              "#bd3786"
             ],
             [
              0.5555555555555556,
              "#d8576b"
             ],
             [
              0.6666666666666666,
              "#ed7953"
             ],
             [
              0.7777777777777778,
              "#fb9f3a"
             ],
             [
              0.8888888888888888,
              "#fdca26"
             ],
             [
              1,
              "#f0f921"
             ]
            ],
            "type": "histogram2d"
           }
          ],
          "histogram2dcontour": [
           {
            "colorbar": {
             "outlinewidth": 0,
             "ticks": ""
            },
            "colorscale": [
             [
              0,
              "#0d0887"
             ],
             [
              0.1111111111111111,
              "#46039f"
             ],
             [
              0.2222222222222222,
              "#7201a8"
             ],
             [
              0.3333333333333333,
              "#9c179e"
             ],
             [
              0.4444444444444444,
              "#bd3786"
             ],
             [
              0.5555555555555556,
              "#d8576b"
             ],
             [
              0.6666666666666666,
              "#ed7953"
             ],
             [
              0.7777777777777778,
              "#fb9f3a"
             ],
             [
              0.8888888888888888,
              "#fdca26"
             ],
             [
              1,
              "#f0f921"
             ]
            ],
            "type": "histogram2dcontour"
           }
          ],
          "mesh3d": [
           {
            "colorbar": {
             "outlinewidth": 0,
             "ticks": ""
            },
            "type": "mesh3d"
           }
          ],
          "parcoords": [
           {
            "line": {
             "colorbar": {
              "outlinewidth": 0,
              "ticks": ""
             }
            },
            "type": "parcoords"
           }
          ],
          "pie": [
           {
            "automargin": true,
            "type": "pie"
           }
          ],
          "scatter": [
           {
            "fillpattern": {
             "fillmode": "overlay",
             "size": 10,
             "solidity": 0.2
            },
            "type": "scatter"
           }
          ],
          "scatter3d": [
           {
            "line": {
             "colorbar": {
              "outlinewidth": 0,
              "ticks": ""
             }
            },
            "marker": {
             "colorbar": {
              "outlinewidth": 0,
              "ticks": ""
             }
            },
            "type": "scatter3d"
           }
          ],
          "scattercarpet": [
           {
            "marker": {
             "colorbar": {
              "outlinewidth": 0,
              "ticks": ""
             }
            },
            "type": "scattercarpet"
           }
          ],
          "scattergeo": [
           {
            "marker": {
             "colorbar": {
              "outlinewidth": 0,
              "ticks": ""
             }
            },
            "type": "scattergeo"
           }
          ],
          "scattergl": [
           {
            "marker": {
             "colorbar": {
              "outlinewidth": 0,
              "ticks": ""
             }
            },
            "type": "scattergl"
           }
          ],
          "scattermapbox": [
           {
            "marker": {
             "colorbar": {
              "outlinewidth": 0,
              "ticks": ""
             }
            },
            "type": "scattermapbox"
           }
          ],
          "scatterpolar": [
           {
            "marker": {
             "colorbar": {
              "outlinewidth": 0,
              "ticks": ""
             }
            },
            "type": "scatterpolar"
           }
          ],
          "scatterpolargl": [
           {
            "marker": {
             "colorbar": {
              "outlinewidth": 0,
              "ticks": ""
             }
            },
            "type": "scatterpolargl"
           }
          ],
          "scatterternary": [
           {
            "marker": {
             "colorbar": {
              "outlinewidth": 0,
              "ticks": ""
             }
            },
            "type": "scatterternary"
           }
          ],
          "surface": [
           {
            "colorbar": {
             "outlinewidth": 0,
             "ticks": ""
            },
            "colorscale": [
             [
              0,
              "#0d0887"
             ],
             [
              0.1111111111111111,
              "#46039f"
             ],
             [
              0.2222222222222222,
              "#7201a8"
             ],
             [
              0.3333333333333333,
              "#9c179e"
             ],
             [
              0.4444444444444444,
              "#bd3786"
             ],
             [
              0.5555555555555556,
              "#d8576b"
             ],
             [
              0.6666666666666666,
              "#ed7953"
             ],
             [
              0.7777777777777778,
              "#fb9f3a"
             ],
             [
              0.8888888888888888,
              "#fdca26"
             ],
             [
              1,
              "#f0f921"
             ]
            ],
            "type": "surface"
           }
          ],
          "table": [
           {
            "cells": {
             "fill": {
              "color": "#EBF0F8"
             },
             "line": {
              "color": "white"
             }
            },
            "header": {
             "fill": {
              "color": "#C8D4E3"
             },
             "line": {
              "color": "white"
             }
            },
            "type": "table"
           }
          ]
         },
         "layout": {
          "annotationdefaults": {
           "arrowcolor": "#2a3f5f",
           "arrowhead": 0,
           "arrowwidth": 1
          },
          "autotypenumbers": "strict",
          "coloraxis": {
           "colorbar": {
            "outlinewidth": 0,
            "ticks": ""
           }
          },
          "colorscale": {
           "diverging": [
            [
             0,
             "#8e0152"
            ],
            [
             0.1,
             "#c51b7d"
            ],
            [
             0.2,
             "#de77ae"
            ],
            [
             0.3,
             "#f1b6da"
            ],
            [
             0.4,
             "#fde0ef"
            ],
            [
             0.5,
             "#f7f7f7"
            ],
            [
             0.6,
             "#e6f5d0"
            ],
            [
             0.7,
             "#b8e186"
            ],
            [
             0.8,
             "#7fbc41"
            ],
            [
             0.9,
             "#4d9221"
            ],
            [
             1,
             "#276419"
            ]
           ],
           "sequential": [
            [
             0,
             "#0d0887"
            ],
            [
             0.1111111111111111,
             "#46039f"
            ],
            [
             0.2222222222222222,
             "#7201a8"
            ],
            [
             0.3333333333333333,
             "#9c179e"
            ],
            [
             0.4444444444444444,
             "#bd3786"
            ],
            [
             0.5555555555555556,
             "#d8576b"
            ],
            [
             0.6666666666666666,
             "#ed7953"
            ],
            [
             0.7777777777777778,
             "#fb9f3a"
            ],
            [
             0.8888888888888888,
             "#fdca26"
            ],
            [
             1,
             "#f0f921"
            ]
           ],
           "sequentialminus": [
            [
             0,
             "#0d0887"
            ],
            [
             0.1111111111111111,
             "#46039f"
            ],
            [
             0.2222222222222222,
             "#7201a8"
            ],
            [
             0.3333333333333333,
             "#9c179e"
            ],
            [
             0.4444444444444444,
             "#bd3786"
            ],
            [
             0.5555555555555556,
             "#d8576b"
            ],
            [
             0.6666666666666666,
             "#ed7953"
            ],
            [
             0.7777777777777778,
             "#fb9f3a"
            ],
            [
             0.8888888888888888,
             "#fdca26"
            ],
            [
             1,
             "#f0f921"
            ]
           ]
          },
          "colorway": [
           "#636efa",
           "#EF553B",
           "#00cc96",
           "#ab63fa",
           "#FFA15A",
           "#19d3f3",
           "#FF6692",
           "#B6E880",
           "#FF97FF",
           "#FECB52"
          ],
          "font": {
           "color": "#2a3f5f"
          },
          "geo": {
           "bgcolor": "white",
           "lakecolor": "white",
           "landcolor": "white",
           "showlakes": true,
           "showland": true,
           "subunitcolor": "#C8D4E3"
          },
          "hoverlabel": {
           "align": "left"
          },
          "hovermode": "closest",
          "mapbox": {
           "style": "light"
          },
          "paper_bgcolor": "white",
          "plot_bgcolor": "white",
          "polar": {
           "angularaxis": {
            "gridcolor": "#EBF0F8",
            "linecolor": "#EBF0F8",
            "ticks": ""
           },
           "bgcolor": "white",
           "radialaxis": {
            "gridcolor": "#EBF0F8",
            "linecolor": "#EBF0F8",
            "ticks": ""
           }
          },
          "scene": {
           "xaxis": {
            "backgroundcolor": "white",
            "gridcolor": "#DFE8F3",
            "gridwidth": 2,
            "linecolor": "#EBF0F8",
            "showbackground": true,
            "ticks": "",
            "zerolinecolor": "#EBF0F8"
           },
           "yaxis": {
            "backgroundcolor": "white",
            "gridcolor": "#DFE8F3",
            "gridwidth": 2,
            "linecolor": "#EBF0F8",
            "showbackground": true,
            "ticks": "",
            "zerolinecolor": "#EBF0F8"
           },
           "zaxis": {
            "backgroundcolor": "white",
            "gridcolor": "#DFE8F3",
            "gridwidth": 2,
            "linecolor": "#EBF0F8",
            "showbackground": true,
            "ticks": "",
            "zerolinecolor": "#EBF0F8"
           }
          },
          "shapedefaults": {
           "line": {
            "color": "#2a3f5f"
           }
          },
          "ternary": {
           "aaxis": {
            "gridcolor": "#DFE8F3",
            "linecolor": "#A2B1C6",
            "ticks": ""
           },
           "baxis": {
            "gridcolor": "#DFE8F3",
            "linecolor": "#A2B1C6",
            "ticks": ""
           },
           "bgcolor": "white",
           "caxis": {
            "gridcolor": "#DFE8F3",
            "linecolor": "#A2B1C6",
            "ticks": ""
           }
          },
          "title": {
           "x": 0.05
          },
          "xaxis": {
           "automargin": true,
           "gridcolor": "#EBF0F8",
           "linecolor": "#EBF0F8",
           "ticks": "",
           "title": {
            "standoff": 15
           },
           "zerolinecolor": "#EBF0F8",
           "zerolinewidth": 2
          },
          "yaxis": {
           "automargin": true,
           "gridcolor": "#EBF0F8",
           "linecolor": "#EBF0F8",
           "ticks": "",
           "title": {
            "standoff": 15
           },
           "zerolinecolor": "#EBF0F8",
           "zerolinewidth": 2
          }
         }
        },
        "title": {
         "font": {
          "color": "Black",
          "size": 22
         },
         "text": "<b>Hierarchical Clustering</b>",
         "x": 0.5,
         "xanchor": "center",
         "yanchor": "top"
        },
        "width": 1000,
        "xaxis": {
         "mirror": "allticks",
         "rangemode": "tozero",
         "showgrid": false,
         "showline": true,
         "showticklabels": true,
         "ticks": "outside",
         "type": "linear",
         "zeroline": false
        },
        "yaxis": {
         "mirror": "allticks",
         "range": [
          -160,
          0
         ],
         "rangemode": "tozero",
         "showgrid": false,
         "showline": true,
         "showticklabels": true,
         "tickmode": "array",
         "ticks": "outside",
         "ticktext": [
          "15_90_finesse_myth",
          "14_love_great_using",
          "2_route_out_go",
          "4_secret_service_was",
          "0_was_of_show",
          "6_comedy_its_funny",
          "3_people_do_be",
          "7_do_play_love",
          "12_robbed_won_nominated",
          "13_scares_worried_scared",
          "9_okay_asshole_im",
          "10_absolutely_bet_blank",
          "5_wow_mm_sure",
          "1_yeah_ballsy_aw",
          "11_totally_saying_no",
          "8_right_hush_snorted"
         ],
         "tickvals": [
          -5,
          -15,
          -25,
          -35,
          -45,
          -55,
          -65,
          -75,
          -85,
          -95,
          -105,
          -115,
          -125,
          -135,
          -145,
          -155
         ],
         "type": "linear",
         "zeroline": false
        }
       }
      }
     },
     "metadata": {},
     "output_type": "display_data"
    }
   ],
   "source": [
    "topic_model.visualize_hierarchy()"
   ]
  },
  {
   "cell_type": "code",
   "execution_count": 47,
   "metadata": {},
   "outputs": [
    {
     "data": {
      "text/plain": [
       "<bertopic._bertopic.BERTopic at 0x14ff22710>"
      ]
     },
     "execution_count": 47,
     "metadata": {},
     "output_type": "execute_result"
    }
   ],
   "source": [
    "topic_model"
   ]
  },
  {
   "cell_type": "code",
   "execution_count": 29,
   "metadata": {},
   "outputs": [],
   "source": [
    "paragraph_df['topic'] = topics"
   ]
  },
  {
   "cell_type": "code",
   "execution_count": 39,
   "metadata": {},
   "outputs": [
    {
     "data": {
      "text/plain": [
       "<Axes: xlabel='minute', ylabel='topic'>"
      ]
     },
     "execution_count": 39,
     "metadata": {},
     "output_type": "execute_result"
    },
    {
     "data": {
      "image/png": "[encoded data removed]",
      "text/plain": [
       "<Figure size 640x480 with 2 Axes>"
      ]
     },
     "metadata": {},
     "output_type": "display_data"
    }
   ],
   "source": [
    "import seaborn as sns\n",
    "sns.heatmap(resample_df(paragraph_df, 'minutes', 'topic').query(\"topic != -1\"))"
   ]
  },
  {
   "cell_type": "code",
   "execution_count": 46,
   "metadata": {},
   "outputs": [],
   "source": [
    "pd.concat([paragraph_df, topic_model.get_document_info(paragraph_df.Text.to_list())], axis=1).drop('topic', axis=1).to_csv('topic_modeling_with_BERTopic.csv')"
   ]
  },
  {
   "cell_type": "code",
   "execution_count": 43,
   "metadata": {},
   "outputs": [
    {
     "data": {
      "text/html": [
       "<div>\n",
       "<style scoped>\n",
       "    .dataframe tbody tr th:only-of-type {\n",
       "        vertical-align: middle;\n",
       "    }\n",
       "\n",
       "    .dataframe tbody tr th {\n",
       "        vertical-align: top;\n",
       "    }\n",
       "\n",
       "    .dataframe thead th {\n",
       "        text-align: right;\n",
       "    }\n",
       "</style>\n",
       "<table border=\"1\" class=\"dataframe\">\n",
       "  <thead>\n",
       "    <tr style=\"text-align: right;\">\n",
       "      <th></th>\n",
       "      <th>Document</th>\n",
       "      <th>Topic</th>\n",
       "      <th>Name</th>\n",
       "      <th>Representation</th>\n",
       "      <th>Representative_Docs</th>\n",
       "      <th>Top_n_words</th>\n",
       "      <th>Probability</th>\n",
       "      <th>Representative_document</th>\n",
       "    </tr>\n",
       "  </thead>\n",
       "  <tbody>\n",
       "    <tr>\n",
       "      <th>0</th>\n",
       "      <td>Hi, and welcome to Close Up With The Hollywood Reporter, comedy actors. I'm your host Lacey Rose, and I'm here with Timothy Simons, Sacha Baron Cohen, Henry Winkler, Don Cheadle, Jim Carrey and Ted Danson. Dive right into this, okay, we're gonna start...</td>\n",
       "      <td>-1</td>\n",
       "      <td>-1_like_know_its_what</td>\n",
       "      <td>[like, know, its, what, youre, do, they, on, about, at]</td>\n",
       "      <td>[Yeah, it very often happens to me I've found in my work, and you're going, what am I pulling toward me? You know, it's not just that things are out there for you to go get, a lot of times these things are kind of coalescing around you and you're like...</td>\n",
       "      <td>like - know - its - what - youre - do - they - on - about - at</td>\n",
       "      <td>0.000000</td>\n",
       "      <td>False</td>\n",
       "    </tr>\n",
       "    <tr>\n",
       "      <th>1</th>\n",
       "      <td>Hi, Lacey.</td>\n",
       "      <td>-1</td>\n",
       "      <td>-1_like_know_its_what</td>\n",
       "      <td>[like, know, its, what, youre, do, they, on, about, at]</td>\n",
       "      <td>[Yeah, it very often happens to me I've found in my work, and you're going, what am I pulling toward me? You know, it's not just that things are out there for you to go get, a lot of times these things are kind of coalescing around you and you're like...</td>\n",
       "      <td>like - know - its - what - youre - do - they - on - about - at</td>\n",
       "      <td>0.000000</td>\n",
       "      <td>False</td>\n",
       "    </tr>\n",
       "    <tr>\n",
       "      <th>2</th>\n",
       "      <td>Hi, Jim.</td>\n",
       "      <td>-1</td>\n",
       "      <td>-1_like_know_its_what</td>\n",
       "      <td>[like, know, its, what, youre, do, they, on, about, at]</td>\n",
       "      <td>[Yeah, it very often happens to me I've found in my work, and you're going, what am I pulling toward me? You know, it's not just that things are out there for you to go get, a lot of times these things are kind of coalescing around you and you're like...</td>\n",
       "      <td>like - know - its - what - youre - do - they - on - about - at</td>\n",
       "      <td>0.000000</td>\n",
       "      <td>False</td>\n",
       "    </tr>\n",
       "    <tr>\n",
       "      <th>3</th>\n",
       "      <td>Thank you for having us.</td>\n",
       "      <td>-1</td>\n",
       "      <td>-1_like_know_its_what</td>\n",
       "      <td>[like, know, its, what, youre, do, they, on, about, at]</td>\n",
       "      <td>[Yeah, it very often happens to me I've found in my work, and you're going, what am I pulling toward me? You know, it's not just that things are out there for you to go get, a lot of times these things are kind of coalescing around you and you're like...</td>\n",
       "      <td>like - know - its - what - youre - do - they - on - about - at</td>\n",
       "      <td>0.000000</td>\n",
       "      <td>False</td>\n",
       "    </tr>\n",
       "    <tr>\n",
       "      <th>4</th>\n",
       "      <td>How are you?</td>\n",
       "      <td>9</td>\n",
       "      <td>9_okay_asshole_im_youre</td>\n",
       "      <td>[okay, asshole, im, youre, points, wise, sorry, whatever, work, say]</td>\n",
       "      <td>[Okay, so, I'm an asshole, is that what you're? , So I'm an asshole, is that what you're trying to say?]</td>\n",
       "      <td>okay - asshole - im - youre - points - wise - sorry - whatever - work - say</td>\n",
       "      <td>0.970933</td>\n",
       "      <td>False</td>\n",
       "    </tr>\n",
       "    <tr>\n",
       "      <th>...</th>\n",
       "      <td>...</td>\n",
       "      <td>...</td>\n",
       "      <td>...</td>\n",
       "      <td>...</td>\n",
       "      <td>...</td>\n",
       "      <td>...</td>\n",
       "      <td>...</td>\n",
       "      <td>...</td>\n",
       "    </tr>\n",
       "    <tr>\n",
       "      <th>680</th>\n",
       "      <td>Didn't I have</td>\n",
       "      <td>-1</td>\n",
       "      <td>-1_like_know_its_what</td>\n",
       "      <td>[like, know, its, what, youre, do, they, on, about, at]</td>\n",
       "      <td>[Yeah, it very often happens to me I've found in my work, and you're going, what am I pulling toward me? You know, it's not just that things are out there for you to go get, a lot of times these things are kind of coalescing around you and you're like...</td>\n",
       "      <td>like - know - its - what - youre - do - they - on - about - at</td>\n",
       "      <td>0.000000</td>\n",
       "      <td>False</td>\n",
       "    </tr>\n",
       "    <tr>\n",
       "      <th>681</th>\n",
       "      <td>You got robbed!</td>\n",
       "      <td>12</td>\n",
       "      <td>12_robbed_won_nominated_was</td>\n",
       "      <td>[robbed, won, nominated, was, win, kids, before, feel, didnt, pressure]</td>\n",
       "      <td>[Yeah, and the mantle of you were robbed was taken from me when I won.  And you were robbed was kind of a nice..., I loved winning it. It sits on my dining room table, which is directly opposite the front door. So when the man delivers my Lipitor he g...</td>\n",
       "      <td>robbed - won - nominated - was - win - kids - before - feel - didnt - pressure</td>\n",
       "      <td>1.000000</td>\n",
       "      <td>False</td>\n",
       "    </tr>\n",
       "    <tr>\n",
       "      <th>682</th>\n",
       "      <td>Didn't I have to be hot at one point to be not hot?</td>\n",
       "      <td>-1</td>\n",
       "      <td>-1_like_know_its_what</td>\n",
       "      <td>[like, know, its, what, youre, do, they, on, about, at]</td>\n",
       "      <td>[Yeah, it very often happens to me I've found in my work, and you're going, what am I pulling toward me? You know, it's not just that things are out there for you to go get, a lot of times these things are kind of coalescing around you and you're like...</td>\n",
       "      <td>like - know - its - what - youre - do - they - on - about - at</td>\n",
       "      <td>0.000000</td>\n",
       "      <td>False</td>\n",
       "    </tr>\n",
       "    <tr>\n",
       "      <th>683</th>\n",
       "      <td>I never got to be hot, I'm just not, not, not, not.</td>\n",
       "      <td>-1</td>\n",
       "      <td>-1_like_know_its_what</td>\n",
       "      <td>[like, know, its, what, youre, do, they, on, about, at]</td>\n",
       "      <td>[Yeah, it very often happens to me I've found in my work, and you're going, what am I pulling toward me? You know, it's not just that things are out there for you to go get, a lot of times these things are kind of coalescing around you and you're like...</td>\n",
       "      <td>like - know - its - what - youre - do - they - on - about - at</td>\n",
       "      <td>0.000000</td>\n",
       "      <td>False</td>\n",
       "    </tr>\n",
       "    <tr>\n",
       "      <th>684</th>\n",
       "      <td>You're really blowing apart the logic of this People Magazine.</td>\n",
       "      <td>-1</td>\n",
       "      <td>-1_like_know_its_what</td>\n",
       "      <td>[like, know, its, what, youre, do, they, on, about, at]</td>\n",
       "      <td>[Yeah, it very often happens to me I've found in my work, and you're going, what am I pulling toward me? You know, it's not just that things are out there for you to go get, a lot of times these things are kind of coalescing around you and you're like...</td>\n",
       "      <td>like - know - its - what - youre - do - they - on - about - at</td>\n",
       "      <td>0.000000</td>\n",
       "      <td>False</td>\n",
       "    </tr>\n",
       "  </tbody>\n",
       "</table>\n",
       "<p>685 rows × 8 columns</p>\n",
       "</div>"
      ],
      "text/plain": [
       "                                                                                                                                                                                                                                                           Document  \\\n",
       "0    Hi, and welcome to Close Up With The Hollywood Reporter, comedy actors. I'm your host Lacey Rose, and I'm here with Timothy Simons, Sacha Baron Cohen, Henry Winkler, Don Cheadle, Jim Carrey and Ted Danson. Dive right into this, okay, we're gonna start...   \n",
       "1                                                                                                                                                                                                                                                        Hi, Lacey.   \n",
       "2                                                                                                                                                                                                                                                          Hi, Jim.   \n",
       "3                                                                                                                                                                                                                                          Thank you for having us.   \n",
       "4                                                                                                                                                                                                                                                      How are you?   \n",
       "..                                                                                                                                                                                                                                                              ...   \n",
       "680                                                                                                                                                                                                                                                   Didn't I have   \n",
       "681                                                                                                                                                                                                                                                 You got robbed!   \n",
       "682                                                                                                                                                                                                             Didn't I have to be hot at one point to be not hot?   \n",
       "683                                                                                                                                                                                                             I never got to be hot, I'm just not, not, not, not.   \n",
       "684                                                                                                                                                                                                  You're really blowing apart the logic of this People Magazine.   \n",
       "\n",
       "     Topic                         Name  \\\n",
       "0       -1        -1_like_know_its_what   \n",
       "1       -1        -1_like_know_its_what   \n",
       "2       -1        -1_like_know_its_what   \n",
       "3       -1        -1_like_know_its_what   \n",
       "4        9      9_okay_asshole_im_youre   \n",
       "..     ...                          ...   \n",
       "680     -1        -1_like_know_its_what   \n",
       "681     12  12_robbed_won_nominated_was   \n",
       "682     -1        -1_like_know_its_what   \n",
       "683     -1        -1_like_know_its_what   \n",
       "684     -1        -1_like_know_its_what   \n",
       "\n",
       "                                                              Representation  \\\n",
       "0                    [like, know, its, what, youre, do, they, on, about, at]   \n",
       "1                    [like, know, its, what, youre, do, they, on, about, at]   \n",
       "2                    [like, know, its, what, youre, do, they, on, about, at]   \n",
       "3                    [like, know, its, what, youre, do, they, on, about, at]   \n",
       "4       [okay, asshole, im, youre, points, wise, sorry, whatever, work, say]   \n",
       "..                                                                       ...   \n",
       "680                  [like, know, its, what, youre, do, they, on, about, at]   \n",
       "681  [robbed, won, nominated, was, win, kids, before, feel, didnt, pressure]   \n",
       "682                  [like, know, its, what, youre, do, they, on, about, at]   \n",
       "683                  [like, know, its, what, youre, do, they, on, about, at]   \n",
       "684                  [like, know, its, what, youre, do, they, on, about, at]   \n",
       "\n",
       "                                                                                                                                                                                                                                                Representative_Docs  \\\n",
       "0    [Yeah, it very often happens to me I've found in my work, and you're going, what am I pulling toward me? You know, it's not just that things are out there for you to go get, a lot of times these things are kind of coalescing around you and you're like...   \n",
       "1    [Yeah, it very often happens to me I've found in my work, and you're going, what am I pulling toward me? You know, it's not just that things are out there for you to go get, a lot of times these things are kind of coalescing around you and you're like...   \n",
       "2    [Yeah, it very often happens to me I've found in my work, and you're going, what am I pulling toward me? You know, it's not just that things are out there for you to go get, a lot of times these things are kind of coalescing around you and you're like...   \n",
       "3    [Yeah, it very often happens to me I've found in my work, and you're going, what am I pulling toward me? You know, it's not just that things are out there for you to go get, a lot of times these things are kind of coalescing around you and you're like...   \n",
       "4                                                                                                                                                          [Okay, so, I'm an asshole, is that what you're? , So I'm an asshole, is that what you're trying to say?]   \n",
       "..                                                                                                                                                                                                                                                              ...   \n",
       "680  [Yeah, it very often happens to me I've found in my work, and you're going, what am I pulling toward me? You know, it's not just that things are out there for you to go get, a lot of times these things are kind of coalescing around you and you're like...   \n",
       "681  [Yeah, and the mantle of you were robbed was taken from me when I won.  And you were robbed was kind of a nice..., I loved winning it. It sits on my dining room table, which is directly opposite the front door. So when the man delivers my Lipitor he g...   \n",
       "682  [Yeah, it very often happens to me I've found in my work, and you're going, what am I pulling toward me? You know, it's not just that things are out there for you to go get, a lot of times these things are kind of coalescing around you and you're like...   \n",
       "683  [Yeah, it very often happens to me I've found in my work, and you're going, what am I pulling toward me? You know, it's not just that things are out there for you to go get, a lot of times these things are kind of coalescing around you and you're like...   \n",
       "684  [Yeah, it very often happens to me I've found in my work, and you're going, what am I pulling toward me? You know, it's not just that things are out there for you to go get, a lot of times these things are kind of coalescing around you and you're like...   \n",
       "\n",
       "                                                                        Top_n_words  \\\n",
       "0                    like - know - its - what - youre - do - they - on - about - at   \n",
       "1                    like - know - its - what - youre - do - they - on - about - at   \n",
       "2                    like - know - its - what - youre - do - they - on - about - at   \n",
       "3                    like - know - its - what - youre - do - they - on - about - at   \n",
       "4       okay - asshole - im - youre - points - wise - sorry - whatever - work - say   \n",
       "..                                                                              ...   \n",
       "680                  like - know - its - what - youre - do - they - on - about - at   \n",
       "681  robbed - won - nominated - was - win - kids - before - feel - didnt - pressure   \n",
       "682                  like - know - its - what - youre - do - they - on - about - at   \n",
       "683                  like - know - its - what - youre - do - they - on - about - at   \n",
       "684                  like - know - its - what - youre - do - they - on - about - at   \n",
       "\n",
       "     Probability  Representative_document  \n",
       "0       0.000000                    False  \n",
       "1       0.000000                    False  \n",
       "2       0.000000                    False  \n",
       "3       0.000000                    False  \n",
       "4       0.970933                    False  \n",
       "..           ...                      ...  \n",
       "680     0.000000                    False  \n",
       "681     1.000000                    False  \n",
       "682     0.000000                    False  \n",
       "683     0.000000                    False  \n",
       "684     0.000000                    False  \n",
       "\n",
       "[685 rows x 8 columns]"
      ]
     },
     "execution_count": 43,
     "metadata": {},
     "output_type": "execute_result"
    }
   ],
   "source": []
  },
  {
   "cell_type": "markdown",
   "metadata": {},
   "source": [
    "# A look at a semi-supervised learning"
   ]
  },
  {
   "cell_type": "code",
   "execution_count": 71,
   "metadata": {},
   "outputs": [
    {
     "data": {
      "text/plain": [
       "[1, 83, 7, 60, 77]"
      ]
     },
     "execution_count": 71,
     "metadata": {},
     "output_type": "execute_result"
    }
   ],
   "source": [
    "\n"
   ]
  },
  {
   "cell_type": "code",
   "execution_count": 74,
   "metadata": {},
   "outputs": [],
   "source": [
    "from bertopic import BERTopic\n",
    "from sklearn.datasets import fetch_20newsgroups\n",
    "import random\n",
    "\n",
    "data = fetch_20newsgroups(subset='all',  remove=('headers', 'footers', 'quotes'))\n",
    "a_sample = random.sample(range(0, len(data['data'])), 2000)\n",
    "# Use the sampled indices to get the documents, categories, and category names\n",
    "docs = [data.data[i] for i in a_sample]\n",
    "categories = [data.target[i] for i in a_sample]\n",
    "category_names = [data.target_names[i] for i in categories]\n"
   ]
  },
  {
   "cell_type": "code",
   "execution_count": 75,
   "metadata": {},
   "outputs": [
    {
     "name": "stderr",
     "output_type": "stream",
     "text": [
      "Batches: 100%|██████████| 63/63 [02:00<00:00,  1.91s/it]\n",
      "2023-10-03 11:53:20,314 - BERTopic - Transformed documents to Embeddings\n",
      "2023-10-03 11:53:26,595 - BERTopic - Reduced dimensionality\n",
      "2023-10-03 11:53:26,689 - BERTopic - Clustered reduced embeddings\n"
     ]
    }
   ],
   "source": [
    "topic_model = BERTopic(verbose=True).fit(docs, y=categories)"
   ]
  },
  {
   "cell_type": "code",
   "execution_count": 76,
   "metadata": {},
   "outputs": [],
   "source": [
    "labels_to_add = ['comp.graphics', 'comp.os.ms-windows.misc',\n",
    "              'comp.sys.ibm.pc.hardware', 'comp.sys.mac.hardware',\n",
    "              'comp.windows.x',]\n",
    "indices = [category_names.index(label) for label in labels_to_add]\n",
    "y = [label if label in indices else -1 for label in categories]"
   ]
  },
  {
   "cell_type": "code",
   "execution_count": 79,
   "metadata": {},
   "outputs": [
    {
     "data": {
      "text/plain": [
       "[8, 0, 46, 14, 6]"
      ]
     },
     "execution_count": 79,
     "metadata": {},
     "output_type": "execute_result"
    }
   ],
   "source": [
    "indices"
   ]
  },
  {
   "cell_type": "code",
   "execution_count": 81,
   "metadata": {},
   "outputs": [
    {
     "data": {
      "text/plain": [
       "[-1,\n",
       " -1,\n",
       " -1,\n",
       " -1,\n",
       " 14,\n",
       " 6,\n",
       " -1,\n",
       " -1,\n",
       " -1,\n",
       " 14,\n",
       " -1,\n",
       " -1,\n",
       " -1,\n",
       " -1,\n",
       " -1,\n",
       " -1,\n",
       " -1,\n",
       " -1,\n",
       " -1,\n",
       " 6,\n",
       " -1,\n",
       " 6,\n",
       " -1,\n",
       " -1,\n",
       " -1,\n",
       " -1,\n",
       " -1,\n",
       " 6,\n",
       " 6,\n",
       " -1,\n",
       " -1,\n",
       " -1,\n",
       " 8,\n",
       " 14,\n",
       " -1,\n",
       " -1,\n",
       " -1,\n",
       " 14,\n",
       " 14,\n",
       " -1,\n",
       " -1,\n",
       " -1,\n",
       " 6,\n",
       " -1,\n",
       " -1,\n",
       " -1,\n",
       " -1,\n",
       " -1,\n",
       " -1,\n",
       " -1,\n",
       " -1,\n",
       " -1,\n",
       " -1,\n",
       " -1,\n",
       " -1,\n",
       " -1,\n",
       " -1,\n",
       " -1,\n",
       " 14,\n",
       " -1,\n",
       " -1,\n",
       " -1,\n",
       " -1,\n",
       " 0,\n",
       " 0,\n",
       " -1,\n",
       " 8,\n",
       " -1,\n",
       " -1,\n",
       " -1,\n",
       " -1,\n",
       " -1,\n",
       " -1,\n",
       " -1,\n",
       " 8,\n",
       " -1,\n",
       " -1,\n",
       " 6,\n",
       " -1,\n",
       " -1,\n",
       " -1,\n",
       " 8,\n",
       " -1,\n",
       " -1,\n",
       " -1,\n",
       " -1,\n",
       " -1,\n",
       " -1,\n",
       " -1,\n",
       " -1,\n",
       " -1,\n",
       " -1,\n",
       " -1,\n",
       " -1,\n",
       " -1,\n",
       " -1,\n",
       " -1,\n",
       " -1,\n",
       " -1,\n",
       " -1,\n",
       " -1,\n",
       " -1,\n",
       " -1,\n",
       " -1,\n",
       " -1,\n",
       " -1,\n",
       " -1,\n",
       " -1,\n",
       " -1,\n",
       " -1,\n",
       " -1,\n",
       " -1,\n",
       " -1,\n",
       " -1,\n",
       " -1,\n",
       " -1,\n",
       " 0,\n",
       " -1,\n",
       " -1,\n",
       " -1,\n",
       " -1,\n",
       " -1,\n",
       " -1,\n",
       " -1,\n",
       " -1,\n",
       " -1,\n",
       " -1,\n",
       " -1,\n",
       " -1,\n",
       " -1,\n",
       " -1,\n",
       " -1,\n",
       " -1,\n",
       " -1,\n",
       " 0,\n",
       " -1,\n",
       " -1,\n",
       " 14,\n",
       " 6,\n",
       " -1,\n",
       " -1,\n",
       " -1,\n",
       " -1,\n",
       " 8,\n",
       " -1,\n",
       " -1,\n",
       " -1,\n",
       " -1,\n",
       " -1,\n",
       " -1,\n",
       " -1,\n",
       " -1,\n",
       " -1,\n",
       " -1,\n",
       " 8,\n",
       " -1,\n",
       " -1,\n",
       " -1,\n",
       " -1,\n",
       " 14,\n",
       " -1,\n",
       " -1,\n",
       " 0,\n",
       " 14,\n",
       " -1,\n",
       " -1,\n",
       " -1,\n",
       " 0,\n",
       " -1,\n",
       " 0,\n",
       " -1,\n",
       " -1,\n",
       " -1,\n",
       " -1,\n",
       " -1,\n",
       " -1,\n",
       " -1,\n",
       " -1,\n",
       " -1,\n",
       " -1,\n",
       " -1,\n",
       " -1,\n",
       " 6,\n",
       " 8,\n",
       " -1,\n",
       " -1,\n",
       " -1,\n",
       " 6,\n",
       " -1,\n",
       " -1,\n",
       " -1,\n",
       " -1,\n",
       " -1,\n",
       " -1,\n",
       " -1,\n",
       " -1,\n",
       " -1,\n",
       " -1,\n",
       " 14,\n",
       " 0,\n",
       " 6,\n",
       " -1,\n",
       " -1,\n",
       " -1,\n",
       " -1,\n",
       " -1,\n",
       " -1,\n",
       " -1,\n",
       " -1,\n",
       " -1,\n",
       " -1,\n",
       " -1,\n",
       " -1,\n",
       " -1,\n",
       " -1,\n",
       " -1,\n",
       " -1,\n",
       " 0,\n",
       " -1,\n",
       " -1,\n",
       " 8,\n",
       " -1,\n",
       " -1,\n",
       " 14,\n",
       " -1,\n",
       " -1,\n",
       " -1,\n",
       " -1,\n",
       " -1,\n",
       " -1,\n",
       " -1,\n",
       " -1,\n",
       " -1,\n",
       " -1,\n",
       " 6,\n",
       " -1,\n",
       " 14,\n",
       " -1,\n",
       " -1,\n",
       " -1,\n",
       " -1,\n",
       " -1,\n",
       " -1,\n",
       " -1,\n",
       " -1,\n",
       " -1,\n",
       " -1,\n",
       " -1,\n",
       " 6,\n",
       " -1,\n",
       " -1,\n",
       " -1,\n",
       " -1,\n",
       " -1,\n",
       " -1,\n",
       " -1,\n",
       " -1,\n",
       " -1,\n",
       " -1,\n",
       " 0,\n",
       " -1,\n",
       " -1,\n",
       " -1,\n",
       " -1,\n",
       " 6,\n",
       " -1,\n",
       " -1,\n",
       " 14,\n",
       " -1,\n",
       " 14,\n",
       " 8,\n",
       " 14,\n",
       " -1,\n",
       " 0,\n",
       " -1,\n",
       " -1,\n",
       " -1,\n",
       " 6,\n",
       " 6,\n",
       " -1,\n",
       " -1,\n",
       " -1,\n",
       " -1,\n",
       " -1,\n",
       " 6,\n",
       " -1,\n",
       " -1,\n",
       " -1,\n",
       " -1,\n",
       " 0,\n",
       " -1,\n",
       " -1,\n",
       " -1,\n",
       " -1,\n",
       " -1,\n",
       " 0,\n",
       " -1,\n",
       " -1,\n",
       " -1,\n",
       " -1,\n",
       " -1,\n",
       " -1,\n",
       " 8,\n",
       " -1,\n",
       " -1,\n",
       " -1,\n",
       " -1,\n",
       " -1,\n",
       " -1,\n",
       " -1,\n",
       " -1,\n",
       " -1,\n",
       " -1,\n",
       " -1,\n",
       " -1,\n",
       " -1,\n",
       " -1,\n",
       " -1,\n",
       " -1,\n",
       " -1,\n",
       " -1,\n",
       " -1,\n",
       " -1,\n",
       " 14,\n",
       " -1,\n",
       " -1,\n",
       " -1,\n",
       " -1,\n",
       " -1,\n",
       " -1,\n",
       " 14,\n",
       " 14,\n",
       " -1,\n",
       " -1,\n",
       " -1,\n",
       " -1,\n",
       " -1,\n",
       " -1,\n",
       " -1,\n",
       " -1,\n",
       " -1,\n",
       " -1,\n",
       " -1,\n",
       " -1,\n",
       " 14,\n",
       " -1,\n",
       " -1,\n",
       " -1,\n",
       " -1,\n",
       " -1,\n",
       " 6,\n",
       " -1,\n",
       " -1,\n",
       " -1,\n",
       " 6,\n",
       " -1,\n",
       " 14,\n",
       " -1,\n",
       " -1,\n",
       " -1,\n",
       " -1,\n",
       " 0,\n",
       " -1,\n",
       " -1,\n",
       " 6,\n",
       " -1,\n",
       " -1,\n",
       " -1,\n",
       " -1,\n",
       " -1,\n",
       " -1,\n",
       " -1,\n",
       " -1,\n",
       " -1,\n",
       " -1,\n",
       " -1,\n",
       " -1,\n",
       " -1,\n",
       " -1,\n",
       " -1,\n",
       " -1,\n",
       " 6,\n",
       " -1,\n",
       " -1,\n",
       " 8,\n",
       " 14,\n",
       " -1,\n",
       " -1,\n",
       " -1,\n",
       " -1,\n",
       " -1,\n",
       " -1,\n",
       " -1,\n",
       " 8,\n",
       " -1,\n",
       " -1,\n",
       " -1,\n",
       " 8,\n",
       " 0,\n",
       " -1,\n",
       " -1,\n",
       " -1,\n",
       " -1,\n",
       " -1,\n",
       " -1,\n",
       " 6,\n",
       " -1,\n",
       " 14,\n",
       " -1,\n",
       " -1,\n",
       " -1,\n",
       " -1,\n",
       " -1,\n",
       " -1,\n",
       " -1,\n",
       " -1,\n",
       " -1,\n",
       " 0,\n",
       " -1,\n",
       " -1,\n",
       " 8,\n",
       " -1,\n",
       " -1,\n",
       " -1,\n",
       " -1,\n",
       " -1,\n",
       " -1,\n",
       " -1,\n",
       " -1,\n",
       " 6,\n",
       " -1,\n",
       " 14,\n",
       " -1,\n",
       " -1,\n",
       " -1,\n",
       " -1,\n",
       " 14,\n",
       " -1,\n",
       " -1,\n",
       " -1,\n",
       " -1,\n",
       " -1,\n",
       " -1,\n",
       " -1,\n",
       " -1,\n",
       " -1,\n",
       " 6,\n",
       " 0,\n",
       " -1,\n",
       " -1,\n",
       " -1,\n",
       " -1,\n",
       " -1,\n",
       " 0,\n",
       " -1,\n",
       " -1,\n",
       " -1,\n",
       " -1,\n",
       " -1,\n",
       " -1,\n",
       " 6,\n",
       " -1,\n",
       " -1,\n",
       " -1,\n",
       " -1,\n",
       " -1,\n",
       " -1,\n",
       " -1,\n",
       " 0,\n",
       " -1,\n",
       " -1,\n",
       " -1,\n",
       " -1,\n",
       " -1,\n",
       " 8,\n",
       " 0,\n",
       " 6,\n",
       " 0,\n",
       " 0,\n",
       " -1,\n",
       " -1,\n",
       " -1,\n",
       " -1,\n",
       " -1,\n",
       " 0,\n",
       " 0,\n",
       " 6,\n",
       " -1,\n",
       " -1,\n",
       " -1,\n",
       " 0,\n",
       " 0,\n",
       " -1,\n",
       " -1,\n",
       " -1,\n",
       " -1,\n",
       " -1,\n",
       " -1,\n",
       " -1,\n",
       " -1,\n",
       " 8,\n",
       " -1,\n",
       " -1,\n",
       " -1,\n",
       " -1,\n",
       " -1,\n",
       " 8,\n",
       " 6,\n",
       " -1,\n",
       " -1,\n",
       " -1,\n",
       " -1,\n",
       " -1,\n",
       " 6,\n",
       " -1,\n",
       " -1,\n",
       " -1,\n",
       " -1,\n",
       " -1,\n",
       " 0,\n",
       " -1,\n",
       " -1,\n",
       " -1,\n",
       " 6,\n",
       " -1,\n",
       " -1,\n",
       " 8,\n",
       " -1,\n",
       " -1,\n",
       " -1,\n",
       " -1,\n",
       " -1,\n",
       " -1,\n",
       " -1,\n",
       " -1,\n",
       " -1,\n",
       " -1,\n",
       " -1,\n",
       " -1,\n",
       " 14,\n",
       " -1,\n",
       " -1,\n",
       " -1,\n",
       " -1,\n",
       " 0,\n",
       " -1,\n",
       " -1,\n",
       " 8,\n",
       " -1,\n",
       " 0,\n",
       " -1,\n",
       " 0,\n",
       " -1,\n",
       " -1,\n",
       " -1,\n",
       " -1,\n",
       " 6,\n",
       " -1,\n",
       " -1,\n",
       " -1,\n",
       " -1,\n",
       " 8,\n",
       " -1,\n",
       " 6,\n",
       " 6,\n",
       " -1,\n",
       " -1,\n",
       " -1,\n",
       " -1,\n",
       " 14,\n",
       " 8,\n",
       " -1,\n",
       " -1,\n",
       " -1,\n",
       " -1,\n",
       " -1,\n",
       " -1,\n",
       " -1,\n",
       " -1,\n",
       " -1,\n",
       " 6,\n",
       " -1,\n",
       " -1,\n",
       " -1,\n",
       " -1,\n",
       " -1,\n",
       " -1,\n",
       " -1,\n",
       " -1,\n",
       " -1,\n",
       " -1,\n",
       " -1,\n",
       " 14,\n",
       " -1,\n",
       " -1,\n",
       " -1,\n",
       " -1,\n",
       " -1,\n",
       " -1,\n",
       " -1,\n",
       " -1,\n",
       " -1,\n",
       " -1,\n",
       " -1,\n",
       " -1,\n",
       " -1,\n",
       " 8,\n",
       " -1,\n",
       " 6,\n",
       " 6,\n",
       " -1,\n",
       " -1,\n",
       " 14,\n",
       " -1,\n",
       " 6,\n",
       " -1,\n",
       " -1,\n",
       " 0,\n",
       " -1,\n",
       " -1,\n",
       " -1,\n",
       " -1,\n",
       " -1,\n",
       " -1,\n",
       " -1,\n",
       " -1,\n",
       " -1,\n",
       " -1,\n",
       " -1,\n",
       " -1,\n",
       " -1,\n",
       " -1,\n",
       " -1,\n",
       " -1,\n",
       " -1,\n",
       " -1,\n",
       " -1,\n",
       " -1,\n",
       " -1,\n",
       " -1,\n",
       " -1,\n",
       " -1,\n",
       " -1,\n",
       " -1,\n",
       " -1,\n",
       " -1,\n",
       " -1,\n",
       " -1,\n",
       " -1,\n",
       " -1,\n",
       " 14,\n",
       " -1,\n",
       " -1,\n",
       " -1,\n",
       " -1,\n",
       " -1,\n",
       " 6,\n",
       " -1,\n",
       " -1,\n",
       " 8,\n",
       " -1,\n",
       " -1,\n",
       " -1,\n",
       " -1,\n",
       " -1,\n",
       " -1,\n",
       " -1,\n",
       " 0,\n",
       " -1,\n",
       " -1,\n",
       " -1,\n",
       " -1,\n",
       " -1,\n",
       " -1,\n",
       " -1,\n",
       " -1,\n",
       " -1,\n",
       " 0,\n",
       " -1,\n",
       " -1,\n",
       " 6,\n",
       " -1,\n",
       " -1,\n",
       " -1,\n",
       " -1,\n",
       " -1,\n",
       " -1,\n",
       " -1,\n",
       " -1,\n",
       " 6,\n",
       " -1,\n",
       " -1,\n",
       " -1,\n",
       " 8,\n",
       " -1,\n",
       " -1,\n",
       " -1,\n",
       " -1,\n",
       " 6,\n",
       " -1,\n",
       " -1,\n",
       " -1,\n",
       " -1,\n",
       " 14,\n",
       " -1,\n",
       " -1,\n",
       " -1,\n",
       " -1,\n",
       " -1,\n",
       " -1,\n",
       " -1,\n",
       " -1,\n",
       " -1,\n",
       " -1,\n",
       " -1,\n",
       " -1,\n",
       " 8,\n",
       " -1,\n",
       " 14,\n",
       " 14,\n",
       " -1,\n",
       " -1,\n",
       " -1,\n",
       " -1,\n",
       " -1,\n",
       " -1,\n",
       " 0,\n",
       " -1,\n",
       " -1,\n",
       " -1,\n",
       " -1,\n",
       " 14,\n",
       " -1,\n",
       " -1,\n",
       " -1,\n",
       " -1,\n",
       " 14,\n",
       " -1,\n",
       " 8,\n",
       " -1,\n",
       " 14,\n",
       " -1,\n",
       " -1,\n",
       " -1,\n",
       " -1,\n",
       " -1,\n",
       " -1,\n",
       " -1,\n",
       " -1,\n",
       " -1,\n",
       " -1,\n",
       " -1,\n",
       " -1,\n",
       " 6,\n",
       " -1,\n",
       " -1,\n",
       " -1,\n",
       " 14,\n",
       " -1,\n",
       " -1,\n",
       " -1,\n",
       " -1,\n",
       " -1,\n",
       " -1,\n",
       " -1,\n",
       " 6,\n",
       " -1,\n",
       " -1,\n",
       " -1,\n",
       " -1,\n",
       " -1,\n",
       " 0,\n",
       " -1,\n",
       " -1,\n",
       " -1,\n",
       " -1,\n",
       " 8,\n",
       " -1,\n",
       " -1,\n",
       " -1,\n",
       " -1,\n",
       " -1,\n",
       " -1,\n",
       " -1,\n",
       " -1,\n",
       " -1,\n",
       " 0,\n",
       " -1,\n",
       " -1,\n",
       " -1,\n",
       " -1,\n",
       " -1,\n",
       " -1,\n",
       " -1,\n",
       " -1,\n",
       " -1,\n",
       " -1,\n",
       " -1,\n",
       " -1,\n",
       " -1,\n",
       " -1,\n",
       " -1,\n",
       " -1,\n",
       " 8,\n",
       " 14,\n",
       " -1,\n",
       " 8,\n",
       " 14,\n",
       " -1,\n",
       " -1,\n",
       " 14,\n",
       " -1,\n",
       " -1,\n",
       " -1,\n",
       " -1,\n",
       " -1,\n",
       " -1,\n",
       " -1,\n",
       " -1,\n",
       " -1,\n",
       " 6,\n",
       " -1,\n",
       " -1,\n",
       " -1,\n",
       " -1,\n",
       " -1,\n",
       " 6,\n",
       " -1,\n",
       " -1,\n",
       " 14,\n",
       " 14,\n",
       " -1,\n",
       " -1,\n",
       " -1,\n",
       " -1,\n",
       " -1,\n",
       " 0,\n",
       " -1,\n",
       " -1,\n",
       " -1,\n",
       " -1,\n",
       " -1,\n",
       " -1,\n",
       " -1,\n",
       " -1,\n",
       " -1,\n",
       " -1,\n",
       " -1,\n",
       " -1,\n",
       " -1,\n",
       " -1,\n",
       " -1,\n",
       " -1,\n",
       " -1,\n",
       " -1,\n",
       " -1,\n",
       " 6,\n",
       " -1,\n",
       " -1,\n",
       " -1,\n",
       " -1,\n",
       " -1,\n",
       " -1,\n",
       " 6,\n",
       " -1,\n",
       " -1,\n",
       " -1,\n",
       " -1,\n",
       " -1,\n",
       " -1,\n",
       " 14,\n",
       " -1,\n",
       " -1,\n",
       " -1,\n",
       " 14,\n",
       " -1,\n",
       " 14,\n",
       " -1,\n",
       " 6,\n",
       " 0,\n",
       " -1,\n",
       " 0,\n",
       " -1,\n",
       " 6,\n",
       " -1,\n",
       " 6,\n",
       " -1,\n",
       " -1,\n",
       " -1,\n",
       " 8,\n",
       " -1,\n",
       " -1,\n",
       " 0,\n",
       " 14,\n",
       " 8,\n",
       " -1,\n",
       " -1,\n",
       " -1,\n",
       " -1,\n",
       " -1,\n",
       " -1,\n",
       " -1,\n",
       " -1,\n",
       " -1,\n",
       " 0,\n",
       " -1,\n",
       " 6,\n",
       " -1,\n",
       " -1,\n",
       " -1,\n",
       " -1,\n",
       " -1,\n",
       " -1,\n",
       " -1,\n",
       " -1,\n",
       " -1,\n",
       " -1,\n",
       " -1,\n",
       " -1,\n",
       " -1,\n",
       " -1,\n",
       " -1,\n",
       " -1,\n",
       " -1,\n",
       " -1,\n",
       " -1,\n",
       " 14,\n",
       " 14,\n",
       " -1,\n",
       " -1,\n",
       " -1,\n",
       " 0,\n",
       " -1,\n",
       " -1,\n",
       " -1,\n",
       " -1,\n",
       " -1,\n",
       " -1,\n",
       " 14,\n",
       " 6,\n",
       " -1,\n",
       " -1,\n",
       " -1,\n",
       " -1,\n",
       " -1,\n",
       " -1,\n",
       " -1,\n",
       " -1,\n",
       " -1,\n",
       " 14,\n",
       " -1,\n",
       " -1,\n",
       " 0,\n",
       " -1,\n",
       " -1,\n",
       " -1,\n",
       " -1,\n",
       " 6,\n",
       " -1,\n",
       " 14,\n",
       " -1,\n",
       " -1,\n",
       " -1,\n",
       " -1,\n",
       " -1,\n",
       " -1,\n",
       " -1,\n",
       " -1,\n",
       " 8,\n",
       " -1,\n",
       " 6,\n",
       " -1,\n",
       " -1,\n",
       " 14,\n",
       " -1,\n",
       " -1,\n",
       " -1,\n",
       " 14,\n",
       " -1,\n",
       " 8,\n",
       " 6,\n",
       " 14,\n",
       " -1,\n",
       " -1,\n",
       " -1,\n",
       " -1,\n",
       " 0,\n",
       " -1,\n",
       " 14,\n",
       " 8,\n",
       " 6,\n",
       " -1,\n",
       " -1,\n",
       " -1,\n",
       " -1,\n",
       " -1,\n",
       " 8,\n",
       " -1,\n",
       " -1,\n",
       " -1,\n",
       " ...]"
      ]
     },
     "execution_count": 81,
     "metadata": {},
     "output_type": "execute_result"
    }
   ],
   "source": [
    "y"
   ]
  },
  {
   "cell_type": "code",
   "execution_count": null,
   "metadata": {},
   "outputs": [],
   "source": [
    "topic_model = BERTopic(verbose=True).fit(docs, y=y)"
   ]
  }
 ],
 "metadata": {
  "kernelspec": {
   "display_name": "base",
   "language": "python",
   "name": "python3"
  },
  "language_info": {
   "codemirror_mode": {
    "name": "ipython",
    "version": 3
   },
   "file_extension": ".py",
   "mimetype": "text/x-python",
   "name": "python",
   "nbconvert_exporter": "python",
   "pygments_lexer": "ipython3",
   "version": "3.11.5"
  },
  "orig_nbformat": 4
 },
 "nbformat": 4,
 "nbformat_minor": 2
}
